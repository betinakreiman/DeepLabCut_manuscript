{
 "cells": [
  {
   "cell_type": "markdown",
   "metadata": {},
   "source": [
    "# Rank Sum Test\n",
    "#### https://en.wikipedia.org/wiki/Mann%E2%80%93Whitney_U_test\n",
    "#### https://docs.scipy.org/doc/scipy/reference/generated/scipy.stats.ranksums.html"
   ]
  },
  {
   "cell_type": "code",
   "execution_count": 1,
   "metadata": {},
   "outputs": [],
   "source": [
    "# csv to open files, plt and np to plot\n",
    "import csv\n",
    "import matplotlib.pyplot as plt\n",
    "import numpy as np\n",
    "import pandas as pd\n",
    "import math\n",
    "from matplotlib import image"
   ]
  },
  {
   "cell_type": "code",
   "execution_count": 2,
   "metadata": {},
   "outputs": [],
   "source": [
    "# functions to open and read csv files w/ annotations\n",
    "def openCSV_getData_computer(file_csv):\n",
    "    file = open(file_csv)\n",
    "    type(file)\n",
    "    csvreader = csv.reader(file)\n",
    "    rows = []\n",
    "    for row in csvreader:\n",
    "        rows.append(row)\n",
    "    rows = rows[3:]\n",
    "    data = []\n",
    "    for i in range(len(rows)):\n",
    "        temp = rows[i][:]\n",
    "        temp.pop(-1)\n",
    "        temp.pop(15)\n",
    "        temp.pop(12)\n",
    "        temp.pop(9)\n",
    "        temp.pop(6)\n",
    "        temp.pop(3)\n",
    "        temp.pop(0)\n",
    "        data.append(temp)\n",
    "    return data\n",
    "\n",
    "def distanceBetweenPoints(x1, y1, x2, y2):\n",
    "    xDiff = abs(x2 - x1)\n",
    "    yDiff = abs(y2 - y1)\n",
    "    xDiff = xDiff**2\n",
    "    yDiff = yDiff**2\n",
    "    distance = xDiff + yDiff\n",
    "    distance = math.pow(distance, 1/2)\n",
    "    return distance\n",
    "\n",
    "def removeScorer_otherInfo(csv_file):\n",
    "    # remove indeces 0-3\n",
    "    data = csv_file[3:]\n",
    "    imgNames = []\n",
    "    for i in range(len(data)):\n",
    "        imgNames.append(data[i][2])\n",
    "        temp = data[i]\n",
    "        temp = temp[3:]\n",
    "        data[i] = temp\n",
    "    return [data, imgNames]\n",
    "#b1_c1_j = removeScorer_otherInfo(rows)\n",
    "\n",
    "def openCSV_getData(file_csv):\n",
    "    file = open(file_csv)\n",
    "    type(file)\n",
    "    csvreader = csv.reader(file)\n",
    "    rows = []\n",
    "    for row in csvreader:\n",
    "        rows.append(row)\n",
    "    temp = removeScorer_otherInfo(rows)\n",
    "    data = temp[0]\n",
    "    imgNames = temp[1]\n",
    "    return data, imgNames\n",
    "\n",
    "def correctImages(img):\n",
    "    new = []\n",
    "    numbs = []\n",
    "    for i in range(len(img)):\n",
    "        temp = 'frame' \n",
    "        t = img[i][3:7] \n",
    "        if t[0] == \"0\":\n",
    "            t = t[1:]\n",
    "        temp = temp + t + '.jpg'\n",
    "        numbs.append(t)\n",
    "        new.append(temp)\n",
    "    return new, numbs"
   ]
  },
  {
   "cell_type": "code",
   "execution_count": 3,
   "metadata": {},
   "outputs": [],
   "source": [
    "# Computer\n",
    "\n",
    "# length = # of images annotated , 6 body part labels in each\n",
    "folder = '/Users/betinakreiman/Desktop/Life/research/2022/comparing_csv_annotations/computer_labels_3cam/'\n",
    "b1_j_computer = openCSV_getData_computer(folder + 'Block0001_Cam1DLC_resnet50_Demo_220728Jul29shuffle1_100000.csv')\n",
    "b2_j_computer = openCSV_getData_computer(folder + 'Block0001_Cam2DLC_resnet50_Demo_220728Jul29shuffle1_100000.csv')\n",
    "b3_j_computer = openCSV_getData_computer(folder + 'Block0001_Cam3DLC_resnet50_Demo_220728Jul29shuffle1_100000.csv')\n",
    "\n",
    "b1_k_computer = openCSV_getData_computer(folder + 'Block0001_Cam1DLC_resnet50_3d_analysisJul29shuffle1_1030000.csv')\n",
    "b2_k_computer = openCSV_getData_computer(folder + 'Block0001_Cam2DLC_resnet50_3d_analysisJul29shuffle1_1030000.csv')\n",
    "b3_k_computer = openCSV_getData_computer(folder + 'Block0001_Cam3DLC_resnet50_3d_analysisJul29shuffle1_1030000.csv')\n"
   ]
  },
  {
   "cell_type": "code",
   "execution_count": 4,
   "metadata": {},
   "outputs": [],
   "source": [
    "# Human\n",
    "\n",
    "kreiman_csv = \"/Users/betinakreiman/Desktop/Life/research/2022/comparing_csv_annotations/3d_csv_files/CollectedData_Kreiman (1).csv\"\n",
    "jaeson_csv = \"/Users/betinakreiman/Desktop/Life/research/2022/comparing_csv_annotations/3d_csv_files/CollectedData_Jaeson_Block1Cam1.csv\"\n",
    "\n",
    "kreiman_1 = openCSV_getData(\"/Users/betinakreiman/Desktop/Life/research/2022/comparing_csv_annotations/3d_csv_files/CollectedData_Kreiman (1).csv\")\n",
    "b1_k, img1_k = kreiman_1[0], kreiman_1[1]\n",
    "kreiman_2 = openCSV_getData(\"/Users/betinakreiman/Desktop/Life/research/2022/comparing_csv_annotations/3d_csv_files/CollectedData_Kreiman (2).csv\")\n",
    "b2_k, img2_k = kreiman_2[0], kreiman_2[1]\n",
    "kreiman_3 = openCSV_getData(\"/Users/betinakreiman/Desktop/Life/research/2022/comparing_csv_annotations/3d_csv_files/CollectedData_Kreiman (3).csv\")\n",
    "b3_k, img3_k = kreiman_3[0], kreiman_3[1]\n",
    "\n",
    "\n",
    "jaeson_1 = openCSV_getData(\"/Users/betinakreiman/Desktop/Life/research/2022/comparing_csv_annotations/3d_csv_files/CollectedData_Jaeson_Block1Cam1.csv\")\n",
    "b1_j, img1_j = jaeson_1[0], jaeson_1[1]\n",
    "jaeson_2 = openCSV_getData(\"/Users/betinakreiman/Desktop/Life/research/2022/comparing_csv_annotations/3d_csv_files/CollectedData_Jaeson_Block1Cam2.csv\")\n",
    "b2_j, img2_j = jaeson_2[0], jaeson_2[1]\n",
    "jaeson_3 = openCSV_getData(\"/Users/betinakreiman/Desktop/Life/research/2022/comparing_csv_annotations/3d_csv_files/CollectedData_Jaeson_Block1Cam3.csv\")\n",
    "b3_j, img3_j = jaeson_3[0], jaeson_3[1]\n",
    "\n",
    "imgs, numbers = correctImages(img1_k)\n"
   ]
  },
  {
   "cell_type": "code",
   "execution_count": null,
   "metadata": {},
   "outputs": [],
   "source": []
  },
  {
   "cell_type": "code",
   "execution_count": null,
   "metadata": {},
   "outputs": [],
   "source": []
  },
  {
   "cell_type": "code",
   "execution_count": 6,
   "metadata": {},
   "outputs": [],
   "source": [
    "def distance_computer(kreiman, jaeson):\n",
    "    dists = []\n",
    "    for i in range(len(kreiman)):\n",
    "        for bodyPart in range(6):\n",
    "            k_x = float(kreiman[i][bodyPart*2])\n",
    "            j_x = float(jaeson[i][bodyPart*2])\n",
    "            k_y = float(kreiman[i][bodyPart*2+1])\n",
    "            j_y = float(jaeson[i][bodyPart*2+1])\n",
    "            dist = distanceBetweenPoints(k_x, k_y, j_x, j_y)\n",
    "            dists.append(dist)\n",
    "    \n",
    "    return dists\n",
    "distances_cam1_computer = distance_computer(b1_k_computer, b1_j_computer)\n",
    "distances_cam2_computer = distance_computer(b2_k_computer, b2_j_computer)\n",
    "distances_cam3_computer = distance_computer(b3_k_computer, b3_j_computer)"
   ]
  },
  {
   "cell_type": "code",
   "execution_count": 7,
   "metadata": {},
   "outputs": [],
   "source": [
    "def distance_human(kreiman, jaeson):\n",
    "    dists = []\n",
    "    for i in range(len(kreiman)):\n",
    "        for bodyPart in range(6):\n",
    "            if kreiman[i][bodyPart*2] != '' and kreiman[i][bodyPart*2+1] != '' and jaeson[i][bodyPart*2] != '' and jaeson[i][bodyPart*2+1] != '':\n",
    "                k_x = float(kreiman[i][bodyPart*2])\n",
    "                j_x = float(jaeson[i][bodyPart*2])\n",
    "                k_y = float(kreiman[i][bodyPart*2+1])\n",
    "                j_y = float(jaeson[i][bodyPart*2+1])\n",
    "                dist = distanceBetweenPoints(k_x, k_y, j_x, j_y)\n",
    "                dists.append(dist)\n",
    "    \n",
    "    return dists\n",
    "distances_cam1_human = distance_human(b1_k, b1_j)\n",
    "distances_cam2_human = distance_human(b2_k, b2_j)\n",
    "distances_cam3_human = distance_human(b3_k, b3_j)\n"
   ]
  },
  {
   "cell_type": "code",
   "execution_count": 8,
   "metadata": {},
   "outputs": [],
   "source": [
    "def distance_human_parts(kreiman, jaeson):\n",
    "    dists = [[], [], [], [], [], []]\n",
    "    for i in range(len(kreiman)):\n",
    "        for bodyPart in range(6):\n",
    "            if kreiman[i][bodyPart*2] != '' and kreiman[i][bodyPart*2+1] != '' and jaeson[i][bodyPart*2] != '' and jaeson[i][bodyPart*2+1] != '':\n",
    "                k_x = float(kreiman[i][bodyPart*2])\n",
    "                j_x = float(jaeson[i][bodyPart*2])\n",
    "                k_y = float(kreiman[i][bodyPart*2+1])\n",
    "                j_y = float(jaeson[i][bodyPart*2+1])\n",
    "                dist = distanceBetweenPoints(k_x, k_y, j_x, j_y)\n",
    "                dists[bodyPart].append(dist)\n",
    "    \n",
    "    return dists\n",
    "distances_cam1_human_parts = distance_human_parts(b1_k, b1_j)\n",
    "distances_cam2_human_parts = distance_human_parts(b2_k, b2_j)\n",
    "distances_cam3_human_parts = distance_human_parts(b3_k, b3_j)\n"
   ]
  },
  {
   "cell_type": "code",
   "execution_count": null,
   "metadata": {},
   "outputs": [],
   "source": []
  },
  {
   "cell_type": "code",
   "execution_count": 9,
   "metadata": {},
   "outputs": [
    {
     "name": "stdout",
     "output_type": "stream",
     "text": [
      "F_onewayResult(statistic=112.78078989309674, pvalue=2.6367251743879085e-64)\n"
     ]
    }
   ],
   "source": [
    "from scipy.stats import f_oneway\n",
    "print(f_oneway(distances_cam1_human_parts[0], distances_cam1_human_parts[1], distances_cam1_human_parts[2], \n",
    "        distances_cam1_human_parts[3], distances_cam1_human_parts[4], distances_cam1_human_parts[5]))\n",
    "\n"
   ]
  },
  {
   "cell_type": "code",
   "execution_count": 10,
   "metadata": {},
   "outputs": [
    {
     "data": {
      "text/plain": [
       "[[45.72518810561087,\n",
       "  48.65137855207234,\n",
       "  54.32059729472327,\n",
       "  44.68746167070421,\n",
       "  39.25609959583459,\n",
       "  36.09330373214216,\n",
       "  30.319450442336407,\n",
       "  45.18449968259783,\n",
       "  26.94446468426658,\n",
       "  25.819681208940533,\n",
       "  28.742356154981884,\n",
       "  38.70975853845234,\n",
       "  35.849999333807666,\n",
       "  35.253461808430814,\n",
       "  34.29136674956571,\n",
       "  30.426176120140255,\n",
       "  36.278584141788606,\n",
       "  28.16317200786604,\n",
       "  44.479663262847495,\n",
       "  25.888283764420848,\n",
       "  33.52966604271555,\n",
       "  33.54671792127917,\n",
       "  28.79648256889204,\n",
       "  27.77241766877189,\n",
       "  61.361561429873994,\n",
       "  23.92901914421447,\n",
       "  13.024387902081967,\n",
       "  35.3807764289083,\n",
       "  35.4147750503705,\n",
       "  20.973924383459366,\n",
       "  27.173670604558048,\n",
       "  36.61619921984939,\n",
       "  35.02098114516706,\n",
       "  31.682770472425762,\n",
       "  15.094528581670662,\n",
       "  36.505557901516205,\n",
       "  33.80813914926932,\n",
       "  36.897103158193545,\n",
       "  19.203565513604794,\n",
       "  22.18874953117921,\n",
       "  26.961031020957197,\n",
       "  24.755198793073433,\n",
       "  26.226966243848107,\n",
       "  22.182601833714674,\n",
       "  31.843113209690888,\n",
       "  28.81609467814544,\n",
       "  22.16017375627416,\n",
       "  33.174393957589864,\n",
       "  36.80183224946349,\n",
       "  44.01368233187312],\n",
       " [17.004580743854145,\n",
       "  16.59096828738748,\n",
       "  13.67327578228112,\n",
       "  13.109974362926064,\n",
       "  24.308564234619812,\n",
       "  23.46499992050518,\n",
       "  28.480938130031255,\n",
       "  29.00754203610824,\n",
       "  42.47053840233415,\n",
       "  35.90766416012213,\n",
       "  19.033494713771105,\n",
       "  26.4456583202396,\n",
       "  23.611057561351164,\n",
       "  13.069386503501779,\n",
       "  24.143480566742333,\n",
       "  26.028454866762857,\n",
       "  29.66703178719283,\n",
       "  13.909886291355054,\n",
       "  21.397592286896572,\n",
       "  24.25414963254919,\n",
       "  27.808993955278513,\n",
       "  18.524763493019282,\n",
       "  24.52971078905287,\n",
       "  21.51249370786294,\n",
       "  18.65576076744822,\n",
       "  27.75361536769796,\n",
       "  18.462457826558204,\n",
       "  28.699516357948063,\n",
       "  26.529449801256252,\n",
       "  22.618934445533135,\n",
       "  25.822432683905898,\n",
       "  24.23191756046203,\n",
       "  15.784544046878008,\n",
       "  29.14482349241037,\n",
       "  21.041843684350276,\n",
       "  32.08775783866074,\n",
       "  20.209678146574454,\n",
       "  18.875961982067697,\n",
       "  32.057953633321894,\n",
       "  15.582177146032443,\n",
       "  18.645043881174143,\n",
       "  24.30052141151086,\n",
       "  19.705409985593636,\n",
       "  31.828890054894,\n",
       "  20.771380984198483,\n",
       "  26.94709689468802,\n",
       "  28.49292126492751,\n",
       "  20.356914850234126,\n",
       "  11.906149602979802,\n",
       "  16.862166300274872],\n",
       " [35.235166793062355,\n",
       "  29.192956232721716,\n",
       "  23.752163410229397,\n",
       "  26.442868746909006,\n",
       "  15.684999832410435,\n",
       "  15.114496404939661,\n",
       "  14.444550858103845,\n",
       "  4.732389955581325,\n",
       "  21.490725795914614,\n",
       "  5.493794404248509,\n",
       "  5.0467648099877005,\n",
       "  8.105530302787257,\n",
       "  6.270124193059926,\n",
       "  16.88934245413959,\n",
       "  33.46766749676594,\n",
       "  15.12041284964969,\n",
       "  16.53117305967597,\n",
       "  6.962062498585462,\n",
       "  19.57607552894972,\n",
       "  4.024398368169463,\n",
       "  13.413655862510524,\n",
       "  12.62087296150629,\n",
       "  6.527283082089335,\n",
       "  6.975670483385478,\n",
       "  29.106502577357073,\n",
       "  9.514076926497722,\n",
       "  10.1419561486536,\n",
       "  20.998076431859058,\n",
       "  11.912660297297947,\n",
       "  16.350833962045414,\n",
       "  13.691475976004977,\n",
       "  16.399990862229714,\n",
       "  13.700271929630233,\n",
       "  13.337165193122948,\n",
       "  3.582959601984516,\n",
       "  17.026796435053623,\n",
       "  12.769222102713448,\n",
       "  12.863880063408834,\n",
       "  15.818927132153357,\n",
       "  12.500819365228086,\n",
       "  14.596983763246076,\n",
       "  13.671277347665821,\n",
       "  12.445749511255936,\n",
       "  18.75018981752766,\n",
       "  12.894250195831544,\n",
       "  21.91955407758454,\n",
       "  17.971093346586162,\n",
       "  21.61437173864903,\n",
       "  23.32085798607397,\n",
       "  14.13758355210535],\n",
       " [31.229664544686326,\n",
       "  37.58206586873121,\n",
       "  29.77783574087585,\n",
       "  28.020594884924932,\n",
       "  25.28600878042799,\n",
       "  20.385331140093108,\n",
       "  39.560943144257784,\n",
       "  31.587280127106833,\n",
       "  31.539919864376355,\n",
       "  28.253574794125697,\n",
       "  18.92782271346003,\n",
       "  43.78121912009376,\n",
       "  37.47480013800829,\n",
       "  49.466702330093234,\n",
       "  41.29781789927416,\n",
       "  34.2330832676228,\n",
       "  29.757109502337414,\n",
       "  41.97475598950037,\n",
       "  39.93589103497791,\n",
       "  22.97971258394464,\n",
       "  35.831205285782055,\n",
       "  37.502362359641374,\n",
       "  30.332983236456965,\n",
       "  39.672831310725556,\n",
       "  42.87483218591323,\n",
       "  38.47180893308718,\n",
       "  24.95451131088239,\n",
       "  25.401376338100125,\n",
       "  34.60523723741756,\n",
       "  31.322776910696838,\n",
       "  22.262192897680364,\n",
       "  34.684387535187405,\n",
       "  37.87897031624909,\n",
       "  30.507596959213764,\n",
       "  20.789061688651394,\n",
       "  31.5325778957903,\n",
       "  29.032748476336998,\n",
       "  25.44000882695562,\n",
       "  35.877716779471854,\n",
       "  26.237574035254053,\n",
       "  22.69828607649682],\n",
       " [6.265938179300696,\n",
       "  19.375472416909698,\n",
       "  3.337120036535277,\n",
       "  15.263749158034008,\n",
       "  7.07930913182102,\n",
       "  12.42634892125988,\n",
       "  25.53497377672685,\n",
       "  4.956449616421825,\n",
       "  9.605775038593421,\n",
       "  17.264518805131832,\n",
       "  17.020725299473025,\n",
       "  17.64408102360112,\n",
       "  16.04903859082359,\n",
       "  5.904403113142413,\n",
       "  10.257461043166742,\n",
       "  11.58453269359555,\n",
       "  20.657343471343772,\n",
       "  14.078398851529291,\n",
       "  22.359720006278856,\n",
       "  14.677281076593287,\n",
       "  19.821011583007785,\n",
       "  20.43924762690161,\n",
       "  17.748520550918883,\n",
       "  17.334541984898134,\n",
       "  31.441914850122316,\n",
       "  25.06290255979522,\n",
       "  25.60891346149289,\n",
       "  10.966580612044423,\n",
       "  21.906965892722287,\n",
       "  23.54381965175433,\n",
       "  24.728016548406643,\n",
       "  21.401557883625607,\n",
       "  21.098279907208994],\n",
       " []]"
      ]
     },
     "execution_count": 10,
     "metadata": {},
     "output_type": "execute_result"
    }
   ],
   "source": [
    "from scipy.stats import f_oneway\n",
    "distances_cam2_human_parts\n",
    "#print(f_oneway(distances_cam2_human_parts[0], distances_cam2_human_parts[1], distances_cam2_human_parts[2], \n",
    "        #distances_cam2_human_parts[3], distances_cam2_human_parts[4], distances_cam2_human_parts[5]))\n"
   ]
  },
  {
   "cell_type": "code",
   "execution_count": 11,
   "metadata": {},
   "outputs": [
    {
     "name": "stdout",
     "output_type": "stream",
     "text": [
      "F_onewayResult(statistic=nan, pvalue=nan)\n"
     ]
    },
    {
     "name": "stderr",
     "output_type": "stream",
     "text": [
      "/Users/betinakreiman/opt/anaconda3/lib/python3.7/site-packages/scipy/stats/stats.py:3339: RuntimeWarning: invalid value encountered in double_scalars\n",
      "  ssbn += _square_of_sums(a - offset) / len(a)\n"
     ]
    }
   ],
   "source": [
    "from scipy.stats import f_oneway\n",
    "print(f_oneway(distances_cam3_human_parts[0], distances_cam3_human_parts[1], distances_cam3_human_parts[2], \n",
    "        distances_cam3_human_parts[3], distances_cam3_human_parts[4], distances_cam3_human_parts[5]))"
   ]
  },
  {
   "cell_type": "code",
   "execution_count": 12,
   "metadata": {},
   "outputs": [
    {
     "name": "stdout",
     "output_type": "stream",
     "text": [
      "19.410517161010528\n",
      "14.021129768553736\n",
      "279\n",
      "\n",
      "24.253715693958615\n",
      "10.511279875316532\n",
      "224\n",
      "\n",
      "20.706179814778732\n",
      "28.305046927249133\n",
      "199\n",
      "\n"
     ]
    }
   ],
   "source": [
    "print(np.mean(distances_cam1_human))\n",
    "print(np.std(distances_cam1_human))\n",
    "print(len(distances_cam1_human))\n",
    "print()\n",
    "print(np.mean(distances_cam2_human))\n",
    "print(np.std(distances_cam2_human))\n",
    "print(len(distances_cam2_human))\n",
    "print()\n",
    "print(np.mean(distances_cam3_human))\n",
    "print(np.std(distances_cam3_human))\n",
    "print(len(distances_cam3_human))\n",
    "print()"
   ]
  },
  {
   "cell_type": "code",
   "execution_count": null,
   "metadata": {},
   "outputs": [],
   "source": []
  },
  {
   "cell_type": "code",
   "execution_count": null,
   "metadata": {},
   "outputs": [],
   "source": []
  },
  {
   "cell_type": "code",
   "execution_count": 13,
   "metadata": {},
   "outputs": [],
   "source": [
    "distances_computer = distances_cam1_computer + distances_cam2_computer + distances_cam3_computer\n",
    "distances_human = distances_cam1_human + distances_cam2_human + distances_cam3_human\n"
   ]
  },
  {
   "cell_type": "code",
   "execution_count": 14,
   "metadata": {},
   "outputs": [
    {
     "name": "stdout",
     "output_type": "stream",
     "text": [
      "computer:  45.29798993206539\n",
      "human:  21.323214225797198\n"
     ]
    }
   ],
   "source": [
    "print(\"computer: \", np.mean(distances_computer))\n",
    "print(\"human: \", np.mean(distances_human))"
   ]
  },
  {
   "cell_type": "code",
   "execution_count": null,
   "metadata": {},
   "outputs": [],
   "source": []
  },
  {
   "cell_type": "code",
   "execution_count": null,
   "metadata": {},
   "outputs": [],
   "source": []
  },
  {
   "cell_type": "code",
   "execution_count": 15,
   "metadata": {},
   "outputs": [],
   "source": [
    "import numpy as np\n",
    "from scipy.stats import ranksums"
   ]
  },
  {
   "cell_type": "code",
   "execution_count": 16,
   "metadata": {},
   "outputs": [
    {
     "data": {
      "text/plain": [
       "RanksumsResult(statistic=7.258291162583461, pvalue=3.9201102968910024e-13)"
      ]
     },
     "execution_count": 16,
     "metadata": {},
     "output_type": "execute_result"
    }
   ],
   "source": [
    "# all data\n",
    "\n",
    "ranksums(distances_computer, distances_human)"
   ]
  },
  {
   "cell_type": "code",
   "execution_count": 17,
   "metadata": {},
   "outputs": [
    {
     "data": {
      "text/plain": [
       "RanksumsResult(statistic=4.173505429101885, pvalue=2.9994850988948496e-05)"
      ]
     },
     "execution_count": 17,
     "metadata": {},
     "output_type": "execute_result"
    }
   ],
   "source": [
    "# LP CAM 2\n",
    "\n",
    "ranksums(distances_cam2_computer, distances_cam2_human)"
   ]
  },
  {
   "cell_type": "code",
   "execution_count": 18,
   "metadata": {},
   "outputs": [
    {
     "data": {
      "text/plain": [
       "RanksumsResult(statistic=6.817571969896774, pvalue=9.259202250784404e-12)"
      ]
     },
     "execution_count": 18,
     "metadata": {},
     "output_type": "execute_result"
    }
   ],
   "source": [
    "# RP Cam 3\n",
    "\n",
    "ranksums(distances_cam3_computer, distances_cam3_human)"
   ]
  },
  {
   "cell_type": "code",
   "execution_count": 19,
   "metadata": {},
   "outputs": [
    {
     "data": {
      "text/plain": [
       "RanksumsResult(statistic=0.6523685943790732, pvalue=0.5141634191740198)"
      ]
     },
     "execution_count": 19,
     "metadata": {},
     "output_type": "execute_result"
    }
   ],
   "source": [
    "# P CAM 1\n",
    "\n",
    "ranksums(distances_cam1_computer, distances_cam1_human)"
   ]
  },
  {
   "cell_type": "code",
   "execution_count": 20,
   "metadata": {},
   "outputs": [
    {
     "name": "stdout",
     "output_type": "stream",
     "text": [
      "23.595263071616717 19.410517161010528\n",
      "4.184745910606189\n"
     ]
    }
   ],
   "source": [
    "print(np.mean(distances_cam1_computer), np.mean(distances_cam1_human))\n",
    "print(abs(np.mean(distances_cam1_computer) - np.mean(distances_cam1_human)))"
   ]
  },
  {
   "cell_type": "code",
   "execution_count": null,
   "metadata": {},
   "outputs": [],
   "source": []
  },
  {
   "cell_type": "code",
   "execution_count": 21,
   "metadata": {},
   "outputs": [
    {
     "name": "stdout",
     "output_type": "stream",
     "text": [
      "1 and 2: RanksumsResult(statistic=-5.266850482818285, pvalue=1.3878414954983137e-07)\n",
      "1 and 3: RanksumsResult(statistic=0.9192614081444754, pvalue=0.35795885822491946)\n",
      "2 and 3: RanksumsResult(statistic=7.937067750717064, pvalue=2.070169831690341e-15)\n"
     ]
    }
   ],
   "source": [
    "# HUMAN!!! \n",
    "print(\"1 and 2:\", ranksums(distances_cam1_human, distances_cam2_human))\n",
    "print(\"1 and 3:\", ranksums(distances_cam1_human, distances_cam3_human))\n",
    "print(\"2 and 3:\", ranksums(distances_cam2_human, distances_cam3_human))"
   ]
  },
  {
   "cell_type": "code",
   "execution_count": 68,
   "metadata": {},
   "outputs": [
    {
     "data": {
      "text/plain": [
       "F_onewayResult(statistic=4.415882085156975, pvalue=0.012422848917963455)"
      ]
     },
     "execution_count": 68,
     "metadata": {},
     "output_type": "execute_result"
    }
   ],
   "source": [
    "# camera parts between humans\n",
    "f_oneway(distances_cam1_human, distances_cam2_human, distances_cam3_human)"
   ]
  },
  {
   "cell_type": "code",
   "execution_count": null,
   "metadata": {},
   "outputs": [],
   "source": []
  },
  {
   "cell_type": "code",
   "execution_count": 83,
   "metadata": {},
   "outputs": [],
   "source": [
    "all_parts = [[], [], [], [], [], []]\n",
    "cams_parts = [distances_cam1_human_parts, distances_cam2_human_parts, distances_cam3_human_parts]\n",
    "\n",
    "for i in range(len(cams_parts)):\n",
    "    for j in range(6):\n",
    "        for k in range(len(cams_parts[i][j])):\n",
    "            all_parts[j].append(cams_parts[i][j][k])"
   ]
  },
  {
   "cell_type": "code",
   "execution_count": 84,
   "metadata": {},
   "outputs": [
    {
     "name": "stdout",
     "output_type": "stream",
     "text": [
      "F_onewayResult(statistic=6.726437204983047, pvalue=3.911998681705012e-06)\n"
     ]
    }
   ],
   "source": [
    "print(f_oneway(all_parts[0], all_parts[1], all_parts[2],\n",
    "               all_parts[3], all_parts[4], all_parts[5]))\n"
   ]
  },
  {
   "cell_type": "code",
   "execution_count": 74,
   "metadata": {},
   "outputs": [
    {
     "name": "stdout",
     "output_type": "stream",
     "text": [
      "CAMERA 1:  F_onewayResult(statistic=112.78078989309674, pvalue=2.6367251743879085e-64)\n",
      "CAMERA 2:  F_onewayResult(statistic=nan, pvalue=nan)\n",
      "CAMERA 3:  F_onewayResult(statistic=nan, pvalue=nan)\n"
     ]
    }
   ],
   "source": [
    "# body parts between humans\n",
    "print(\"CAMERA 1: \", f_oneway(distances_cam1_human_parts[0], distances_cam1_human_parts[1], distances_cam1_human_parts[2],\n",
    "                            distances_cam1_human_parts[3], distances_cam1_human_parts[4], distances_cam1_human_parts[5]))\n",
    "\n",
    "print(\"CAMERA 2: \", f_oneway(distances_cam2_human_parts[0], distances_cam2_human_parts[1], distances_cam2_human_parts[2],\n",
    "                            distances_cam2_human_parts[3], distances_cam2_human_parts[4], distances_cam2_human_parts[5]))\n",
    "\n",
    "print(\"CAMERA 3: \", f_oneway(distances_cam3_human_parts[0], distances_cam3_human_parts[1], distances_cam3_human_parts[2],\n",
    "                            distances_cam3_human_parts[3], distances_cam3_human_parts[4], distances_cam3_human_parts[5]))\n",
    "\n"
   ]
  },
  {
   "cell_type": "code",
   "execution_count": null,
   "metadata": {},
   "outputs": [],
   "source": []
  },
  {
   "cell_type": "code",
   "execution_count": 67,
   "metadata": {},
   "outputs": [
    {
     "data": {
      "text/plain": [
       "50"
      ]
     },
     "execution_count": 67,
     "metadata": {},
     "output_type": "execute_result"
    }
   ],
   "source": [
    "len(distances_cam1_human_parts[0])"
   ]
  },
  {
   "cell_type": "code",
   "execution_count": null,
   "metadata": {},
   "outputs": [],
   "source": []
  },
  {
   "cell_type": "code",
   "execution_count": 22,
   "metadata": {},
   "outputs": [
    {
     "data": {
      "text/plain": [
       "RanksumsResult(statistic=-1.763261574191876, pvalue=0.0778563829718975)"
      ]
     },
     "execution_count": 22,
     "metadata": {},
     "output_type": "execute_result"
    }
   ],
   "source": [
    "# cam1-comp and human\n",
    "ranksums(distances_cam1_computer, distances_human)"
   ]
  },
  {
   "cell_type": "code",
   "execution_count": null,
   "metadata": {},
   "outputs": [],
   "source": []
  },
  {
   "cell_type": "code",
   "execution_count": null,
   "metadata": {},
   "outputs": [],
   "source": []
  },
  {
   "cell_type": "code",
   "execution_count": null,
   "metadata": {},
   "outputs": [],
   "source": []
  },
  {
   "cell_type": "code",
   "execution_count": null,
   "metadata": {},
   "outputs": [],
   "source": []
  },
  {
   "cell_type": "code",
   "execution_count": null,
   "metadata": {},
   "outputs": [],
   "source": []
  },
  {
   "cell_type": "code",
   "execution_count": 23,
   "metadata": {},
   "outputs": [],
   "source": [
    "# Cross Validate Data"
   ]
  },
  {
   "cell_type": "code",
   "execution_count": 38,
   "metadata": {},
   "outputs": [],
   "source": [
    "# length = # of images annotated , 6 body part labels in each\n",
    "folder = '/Users/betinakreiman/Desktop/Life/research/2022/comparing_csv_annotations/computer_labels_3cam/'\n",
    "cross_b1_j_computer = openCSV_getData_computer(folder + 'Block0001_Cam1DLC_resnet50_Demo_220728Jul29shuffle1_100000.csv')\n",
    "cross_b2_j_computer = openCSV_getData_computer(folder + 'Block0001_Cam2DLC_resnet50_Demo_220728Jul29shuffle1_100000.csv')\n",
    "cross_b3_j_computer = openCSV_getData_computer(folder + 'Block0001_Cam3DLC_resnet50_Demo_220728Jul29shuffle1_100000.csv')\n",
    "\n",
    "cross_b1_k_computer = openCSV_getData_computer(folder + 'Block0001_Cam1DLC_resnet50_3d_analysisJul29shuffle1_1030000.csv')\n",
    "cross_b2_k_computer = openCSV_getData_computer(folder + 'Block0001_Cam2DLC_resnet50_3d_analysisJul29shuffle1_1030000.csv')\n",
    "cross_b3_k_computer = openCSV_getData_computer(folder + 'Block0001_Cam3DLC_resnet50_3d_analysisJul29shuffle1_1030000.csv')\n",
    "\n",
    "#b1_, img1_ = openCSV_getData(folder + '')\n",
    "#b2_, img2_ = openCSV_getData(folder + '')\n",
    "#b3_, img3_ = openCSV_getData(folder + '')"
   ]
  },
  {
   "cell_type": "code",
   "execution_count": 40,
   "metadata": {},
   "outputs": [],
   "source": [
    "cross_kreiman_1 = openCSV_getData(\"/Users/betinakreiman/Desktop/Life/research/2022/Figures/Figure5/cam1NewAnnotations-Kreiman-2022-10-05/labeled-data/Block0001_Cam1/CollectedData_Kreiman.csv\")\n",
    "cross_b1_k, cross_img1_k = cross_kreiman_1[0], cross_kreiman_1[1]\n",
    "cross_kreiman_2 = openCSV_getData(\"/Users/betinakreiman/Desktop/Life/research/2022/Figures/Figure5/cam1NewAnnotations-Kreiman-2022-10-05/labeled-data/Block0001_Cam2/CollectedData_Kreiman.csv\")\n",
    "cross_b2_k, cross_img2_k = cross_kreiman_2[0], cross_kreiman_2[1]\n",
    "cross_kreiman_3 = openCSV_getData(\"/Users/betinakreiman/Desktop/Life/research/2022/Figures/Figure5/cam1NewAnnotations-Kreiman-2022-10-05/labeled-data/Block0001_Cam3/CollectedData_Kreiman.csv\")\n",
    "cross_b3_k, cross_img3_k = cross_kreiman_3[0], cross_kreiman_3[1]\n",
    "\n",
    "\n",
    "cross_jaeson_1 = openCSV_getData(\"/Users/betinakreiman/Desktop/Life/research/2022/Figures/Figure5/labeled-data_Jaeson/Block0001_Cam1/CollectedData_Jaeson.csv\")\n",
    "cross_b1_j, cross_img1_j = cross_jaeson_1[0], cross_jaeson_1[1]\n",
    "cross_jaeson_2 = openCSV_getData(\"/Users/betinakreiman/Desktop/Life/research/2022/Figures/Figure5/labeled-data_Jaeson/Block0001_Cam2/CollectedData_Jaeson.csv\")\n",
    "cross_b2_j, cross_img2_j = cross_jaeson_2[0], cross_jaeson_2[1]\n",
    "cross_jaeson_3 = openCSV_getData(\"/Users/betinakreiman/Desktop/Life/research/2022/Figures/Figure5/labeled-data_Jaeson/Block0001_Cam3/CollectedData_Jaeson.csv\")\n",
    "cross_b3_j, cross_img3_j = cross_jaeson_3[0], cross_jaeson_3[1]\n",
    "\n"
   ]
  },
  {
   "cell_type": "code",
   "execution_count": null,
   "metadata": {},
   "outputs": [],
   "source": []
  },
  {
   "cell_type": "code",
   "execution_count": 41,
   "metadata": {},
   "outputs": [],
   "source": [
    "def getIndecesCrossValidation(imgs):\n",
    "    index = []\n",
    "    for i in range(len(imgs)):\n",
    "        temp = imgs[i][:-4]\n",
    "        temp = temp[5:]\n",
    "        index.append(temp)\n",
    "    return index\n",
    "indeces_1 = getIndecesCrossValidation(cross_img1_k)\n",
    "indeces_2 = getIndecesCrossValidation(cross_img2_k)\n",
    "indeces_3 = getIndecesCrossValidation(cross_img3_k)"
   ]
  },
  {
   "cell_type": "code",
   "execution_count": null,
   "metadata": {},
   "outputs": [],
   "source": []
  },
  {
   "cell_type": "code",
   "execution_count": 42,
   "metadata": {},
   "outputs": [],
   "source": [
    "def distance_computer_cross(kreiman, jaeson, indexs):\n",
    "    dists = []\n",
    "    for i in range(len(indexs)):\n",
    "        for bodyPart in range(6):\n",
    "            ind = int(indexs[i])\n",
    "            k_x = float(kreiman[ind][bodyPart*2])\n",
    "            j_x = float(jaeson[ind][bodyPart*2])\n",
    "            k_y = float(kreiman[ind][bodyPart*2+1])\n",
    "            j_y = float(jaeson[ind][bodyPart*2+1])\n",
    "            dist = distanceBetweenPoints(k_x, k_y, j_x, j_y)\n",
    "            dists.append(dist)\n",
    "    \n",
    "    return dists\n",
    "cross_distances_cam1_computer = distance_computer_cross(b1_k_computer, b1_j_computer, indeces_1)\n",
    "cross_distances_cam2_computer = distance_computer_cross(b2_k_computer, b2_j_computer, indeces_2)\n",
    "cross_distances_cam3_computer = distance_computer_cross(b3_k_computer, b3_j_computer, indeces_1)"
   ]
  },
  {
   "cell_type": "code",
   "execution_count": null,
   "metadata": {},
   "outputs": [],
   "source": []
  },
  {
   "cell_type": "code",
   "execution_count": 43,
   "metadata": {},
   "outputs": [],
   "source": [
    "cross_distances_cam1_human = distance_human(cross_b1_k, cross_b1_j)\n",
    "cross_distances_cam2_human = distance_human(cross_b2_k, cross_b2_j)\n",
    "cross_distances_cam3_human = distance_human(cross_b3_k, cross_b3_j)"
   ]
  },
  {
   "cell_type": "code",
   "execution_count": 44,
   "metadata": {},
   "outputs": [
    {
     "name": "stdout",
     "output_type": "stream",
     "text": [
      "11.283387713006709\n"
     ]
    }
   ],
   "source": [
    "print(np.mean(cross_distances_cam1_human))"
   ]
  },
  {
   "cell_type": "code",
   "execution_count": null,
   "metadata": {},
   "outputs": [],
   "source": []
  },
  {
   "cell_type": "code",
   "execution_count": null,
   "metadata": {},
   "outputs": [],
   "source": []
  },
  {
   "cell_type": "code",
   "execution_count": null,
   "metadata": {},
   "outputs": [],
   "source": []
  },
  {
   "cell_type": "code",
   "execution_count": 45,
   "metadata": {},
   "outputs": [],
   "source": [
    "cross_distances_computer = cross_distances_cam1_computer + cross_distances_cam2_computer + cross_distances_cam3_computer\n",
    "cross_distances_human = cross_distances_cam1_human + cross_distances_cam2_human + cross_distances_cam3_human\n"
   ]
  },
  {
   "cell_type": "code",
   "execution_count": 46,
   "metadata": {},
   "outputs": [
    {
     "name": "stdout",
     "output_type": "stream",
     "text": [
      "45.65298283792776\n",
      "66.34671898455704\n",
      "\n",
      "12.716295068464873\n",
      "9.577076727202408\n"
     ]
    }
   ],
   "source": [
    "print(np.mean(cross_distances_computer))\n",
    "print(np.std(cross_distances_computer))\n",
    "\n",
    "print()\n",
    "\n",
    "print(np.mean(cross_distances_human))\n",
    "print(np.std(cross_distances_human))"
   ]
  },
  {
   "cell_type": "code",
   "execution_count": null,
   "metadata": {},
   "outputs": [],
   "source": []
  },
  {
   "cell_type": "code",
   "execution_count": 47,
   "metadata": {},
   "outputs": [],
   "source": [
    "# cross all data"
   ]
  },
  {
   "cell_type": "code",
   "execution_count": 48,
   "metadata": {},
   "outputs": [
    {
     "data": {
      "text/plain": [
       "RanksumsResult(statistic=10.727005568043591, pvalue=7.601975902486338e-27)"
      ]
     },
     "execution_count": 48,
     "metadata": {},
     "output_type": "execute_result"
    }
   ],
   "source": [
    "ranksums(cross_distances_computer, cross_distances_human)"
   ]
  },
  {
   "cell_type": "code",
   "execution_count": null,
   "metadata": {},
   "outputs": [],
   "source": []
  },
  {
   "cell_type": "code",
   "execution_count": null,
   "metadata": {},
   "outputs": [],
   "source": []
  },
  {
   "cell_type": "code",
   "execution_count": 49,
   "metadata": {},
   "outputs": [
    {
     "name": "stdout",
     "output_type": "stream",
     "text": [
      "avg is  15.605184670606464\n",
      "std is  37.536086677795005\n",
      "\n",
      "avg is  10.994523785418014\n",
      "std is  21.13158648839041\n",
      "\n",
      "avg is  8.695364205354922\n",
      "std is  4.116366298897726\n",
      "\n"
     ]
    }
   ],
   "source": [
    "import numpy as np\n",
    "def crossValidate(human, computer, indexs):\n",
    "    differences = []\n",
    "    avg = 0\n",
    "    count = 0\n",
    "    for i in range(len(human)):\n",
    "        compIndex = int(indexs[i])\n",
    "        #print(compIndex)\n",
    "        for d in range(6):\n",
    "            h_x, h_y = 0, 0\n",
    "            \n",
    "            c_x, c_y = float(computer[compIndex][d*2]), float(computer[compIndex][d*2+1])\n",
    "            distance = 0\n",
    "            if human[i][d*2] != '' and human[i][d*2+1] != '':\n",
    "                h_x, h_y = float(human[i][d*2]), float(human[i][d*2+1])\n",
    "                distance = distanceBetweenPoints(h_x, h_y, c_x, c_y)\n",
    "                differences.append(distance)\n",
    "            \n",
    "            \n",
    "    print(\"avg is \", np.mean(differences))\n",
    "    print(\"std is \", np.std(differences))\n",
    "    print()\n",
    "    return differences, avg\n",
    "\n",
    "diff_k_1, average_k_1 = crossValidate(cross_b1_k, cross_b1_k_computer, indeces_1)\n",
    "\n",
    "diff_k_2, average_k_2 = crossValidate(cross_b2_k, cross_b2_k_computer, indeces_2)\n",
    "\n",
    "diff_k_3, average_k_3 = crossValidate(cross_b3_k, cross_b3_k_computer, indeces_3)\n"
   ]
  },
  {
   "cell_type": "code",
   "execution_count": null,
   "metadata": {},
   "outputs": [],
   "source": []
  },
  {
   "cell_type": "code",
   "execution_count": 50,
   "metadata": {},
   "outputs": [
    {
     "name": "stdout",
     "output_type": "stream",
     "text": [
      "avg is  10.526031189655642\n",
      "std is  7.700235900224916\n",
      "\n",
      "avg is  25.24974728875052\n",
      "std is  25.073592934985953\n",
      "\n",
      "avg is  21.590842802948966\n",
      "std is  29.18646060267376\n",
      "\n"
     ]
    }
   ],
   "source": [
    "diff_j_1, average_j_1 = crossValidate(cross_b1_j, cross_b1_j_computer, indeces_1)\n",
    "\n",
    "diff_j_2, average_j_2 = crossValidate(cross_b2_j, cross_b2_j_computer, indeces_2)\n",
    "\n",
    "diff_j_3, average_j_3 = crossValidate(cross_b3_j, cross_b3_j_computer, indeces_3)"
   ]
  },
  {
   "cell_type": "code",
   "execution_count": null,
   "metadata": {},
   "outputs": [],
   "source": []
  },
  {
   "cell_type": "code",
   "execution_count": 51,
   "metadata": {},
   "outputs": [],
   "source": [
    "diff_cross_k = diff_k_1 + diff_k_2 + diff_k_3\n",
    "diff_cross_j = diff_j_1 + diff_j_2 + diff_j_3"
   ]
  },
  {
   "cell_type": "code",
   "execution_count": 52,
   "metadata": {},
   "outputs": [
    {
     "name": "stdout",
     "output_type": "stream",
     "text": [
      "18.330507728850137\n",
      "22.403577810974905\n"
     ]
    }
   ],
   "source": [
    "print(np.mean(diff_cross_j))\n",
    "print(np.std(diff_cross_j))"
   ]
  },
  {
   "cell_type": "code",
   "execution_count": 53,
   "metadata": {},
   "outputs": [],
   "source": [
    "d = diff_cross_k + diff_cross_j"
   ]
  },
  {
   "cell_type": "code",
   "execution_count": null,
   "metadata": {},
   "outputs": [],
   "source": []
  },
  {
   "cell_type": "code",
   "execution_count": 54,
   "metadata": {},
   "outputs": [
    {
     "data": {
      "text/plain": [
       "RanksumsResult(statistic=-0.25162965727392894, pvalue=0.801327332865304)"
      ]
     },
     "execution_count": 54,
     "metadata": {},
     "output_type": "execute_result"
    }
   ],
   "source": [
    "# h-h vs h-c\n",
    "ranksums(d, cross_distances_human)"
   ]
  },
  {
   "cell_type": "code",
   "execution_count": 55,
   "metadata": {},
   "outputs": [
    {
     "name": "stdout",
     "output_type": "stream",
     "text": [
      "12.716295068464873\n",
      "9.577076727202408\n"
     ]
    }
   ],
   "source": [
    "print(np.mean(cross_distances_human))\n",
    "print(np.std(cross_distances_human))"
   ]
  },
  {
   "cell_type": "code",
   "execution_count": null,
   "metadata": {},
   "outputs": [],
   "source": []
  },
  {
   "cell_type": "code",
   "execution_count": 56,
   "metadata": {},
   "outputs": [
    {
     "data": {
      "text/plain": [
       "RanksumsResult(statistic=7.029306406434272, pvalue=2.0756272038222285e-12)"
      ]
     },
     "execution_count": 56,
     "metadata": {},
     "output_type": "execute_result"
    }
   ],
   "source": [
    "ranksums(diff_cross_j, diff_cross_k)"
   ]
  },
  {
   "cell_type": "code",
   "execution_count": 57,
   "metadata": {},
   "outputs": [
    {
     "data": {
      "text/plain": [
       "RanksumsResult(statistic=0.06063699049434586, pvalue=0.9516483135580246)"
      ]
     },
     "execution_count": 57,
     "metadata": {},
     "output_type": "execute_result"
    }
   ],
   "source": [
    "ranksums(diff_k_1, diff_j_1)"
   ]
  },
  {
   "cell_type": "code",
   "execution_count": 58,
   "metadata": {},
   "outputs": [
    {
     "data": {
      "text/plain": [
       "RanksumsResult(statistic=-8.280961321473123, pvalue=1.2218487359983427e-16)"
      ]
     },
     "execution_count": 58,
     "metadata": {},
     "output_type": "execute_result"
    }
   ],
   "source": [
    "ranksums(diff_k_2, diff_j_2)"
   ]
  },
  {
   "cell_type": "code",
   "execution_count": 59,
   "metadata": {},
   "outputs": [
    {
     "data": {
      "text/plain": [
       "RanksumsResult(statistic=-4.62331315872866, pvalue=3.7765891305401234e-06)"
      ]
     },
     "execution_count": 59,
     "metadata": {},
     "output_type": "execute_result"
    }
   ],
   "source": [
    "ranksums(diff_k_3, diff_j_3)"
   ]
  },
  {
   "cell_type": "code",
   "execution_count": 60,
   "metadata": {},
   "outputs": [
    {
     "name": "stdout",
     "output_type": "stream",
     "text": [
      "13.054892416458161\n",
      "27.161142472942803\n"
     ]
    }
   ],
   "source": [
    "diff_cross_1 = diff_k_1 + diff_j_1\n",
    "print(np.mean(diff_cross_1))\n",
    "print(np.std(diff_cross_1))"
   ]
  },
  {
   "cell_type": "code",
   "execution_count": null,
   "metadata": {},
   "outputs": [],
   "source": []
  },
  {
   "cell_type": "code",
   "execution_count": 61,
   "metadata": {},
   "outputs": [
    {
     "data": {
      "text/plain": [
       "RanksumsResult(statistic=-8.280961321473123, pvalue=1.2218487359983427e-16)"
      ]
     },
     "execution_count": 61,
     "metadata": {},
     "output_type": "execute_result"
    }
   ],
   "source": [
    "ranksums(diff_k_2, diff_j_2)"
   ]
  },
  {
   "cell_type": "code",
   "execution_count": 62,
   "metadata": {},
   "outputs": [
    {
     "data": {
      "text/plain": [
       "RanksumsResult(statistic=-4.62331315872866, pvalue=3.7765891305401234e-06)"
      ]
     },
     "execution_count": 62,
     "metadata": {},
     "output_type": "execute_result"
    }
   ],
   "source": [
    "ranksums(diff_k_3, diff_j_3)"
   ]
  },
  {
   "cell_type": "code",
   "execution_count": 63,
   "metadata": {},
   "outputs": [
    {
     "name": "stdout",
     "output_type": "stream",
     "text": [
      "12.287548598991338\n",
      "9.676215413954399\n",
      "\n",
      "4.046851240414639\n",
      "14.51968904358481\n",
      "\n",
      "196.17699565427077\n",
      "14.239064073444357\n",
      "\n",
      "8.891256658211534\n",
      "3.7901440760366025\n",
      "\n",
      "6.332524686203278\n",
      "3.099348419324357\n",
      "\n"
     ]
    }
   ],
   "source": [
    "for i in range(5):\n",
    "    print(diff_cross_k[i])\n",
    "    print(diff_cross_j[i])\n",
    "    print()"
   ]
  },
  {
   "cell_type": "code",
   "execution_count": null,
   "metadata": {},
   "outputs": [],
   "source": []
  },
  {
   "cell_type": "code",
   "execution_count": null,
   "metadata": {},
   "outputs": [],
   "source": []
  },
  {
   "cell_type": "code",
   "execution_count": 64,
   "metadata": {},
   "outputs": [],
   "source": [
    "# creating bar graph"
   ]
  },
  {
   "cell_type": "code",
   "execution_count": 65,
   "metadata": {},
   "outputs": [],
   "source": [
    "d = diff_cross_k + diff_cross_j\n",
    "d_1 = diff_k_1 + diff_j_1\n",
    "d_2 = diff_k_2 + diff_j_2\n",
    "d_3 = diff_k_3 + diff_j_3"
   ]
  },
  {
   "cell_type": "code",
   "execution_count": 141,
   "metadata": {},
   "outputs": [
    {
     "name": "stdout",
     "output_type": "stream",
     "text": [
      "15.276794363281956\n",
      "24.95440211041375\n"
     ]
    }
   ],
   "source": [
    "print(np.mean(d))\n",
    "print(np.std(d))"
   ]
  },
  {
   "cell_type": "code",
   "execution_count": 142,
   "metadata": {},
   "outputs": [
    {
     "data": {
      "text/plain": [
       "Text(0, 0.5, 'Distance (px)')"
      ]
     },
     "execution_count": 142,
     "metadata": {},
     "output_type": "execute_result"
    },
    {
     "data": {
      "image/png": "[encoded data removed]",
      "text/plain": [
       "<Figure size 432x288 with 1 Axes>"
      ]
     },
     "metadata": {
      "needs_background": "light"
     },
     "output_type": "display_data"
    }
   ],
   "source": [
    "# distnaces, distances_cam1, distances_cam2, distances_cam3, \n",
    "# distances_lf, distances_lk, distances_lt\n",
    "# distances_rf, distances_rk, distances_rt\n",
    "\n",
    "fig, ax = plt.subplots()\n",
    "\n",
    "data = [d, cross_distances_human, [], d_2, cross_distances_cam2_human, [], d_3, cross_distances_cam3_human, [], d_1, cross_distances_cam1_human]\n",
    "#data_1 = [d, [], d_2, d_3, d_1]\n",
    "#data_2 = [cross_distances_human, [], cross_distances_cam2_human, cross_distances_cam3_human, cross_distances_cam1_human]\n",
    "\n",
    "\n",
    "\n",
    "xtick = []\n",
    "c = \"red\"\n",
    "ax.boxplot(data, showfliers=False, patch_artist=True)\n",
    "#ax2.boxplot(data_2, showfliers=False, patch_artist=True,\n",
    "            #boxprops=dict(facecolor=\"blue\", color=\"blue\"))\n",
    "ax.set_xticklabels(xtick)\n",
    "\n",
    "ax.set_ylabel(\"Distance (px)\", fontweight ='bold', fontsize = 13)\n",
    "#plt.savefig('/Users/betinakreiman/Desktop/figs/fig2c.pdf', format='pdf')\n"
   ]
  },
  {
   "cell_type": "code",
   "execution_count": 59,
   "metadata": {},
   "outputs": [],
   "source": [
    "cross_distances_computer = cross_distances_cam1_computer"
   ]
  },
  {
   "cell_type": "code",
   "execution_count": 128,
   "metadata": {},
   "outputs": [
    {
     "data": {
      "image/png": "[encoded data removed]",
      "text/plain": [
       "<Figure size 432x288 with 1 Axes>"
      ]
     },
     "metadata": {
      "needs_background": "light"
     },
     "output_type": "display_data"
    }
   ],
   "source": [
    "import matplotlib.pyplot as plt\n",
    "import numpy as np\n",
    "\n",
    "data_1 = [cross_distances_computer, [], cross_distances_cam2_computer, cross_distances_cam3_computer, cross_distances_cam1_computer]\n",
    "data_2 = [cross_distances_human, cross_distances_cam2_human, cross_distances_cam3_human, cross_distances_cam1_human]\n",
    "\n",
    "\n",
    "#plt.figure(figsize=(4,3))\n",
    "# option 1, specify props dictionaries\n",
    "c = \"#e19136\"\n",
    "plt.boxplot(data_1, positions=[1,3,4,6,8], notch=False, patch_artist=True,\n",
    "            boxprops=dict(facecolor=c, color=\"black\"),\n",
    "            #capprops=dict(color=c),\n",
    "            #whiskerprops=dict(color=\"black\"),\n",
    "            #flierprops=dict(color=\"black\", markeredgecolor=\"black\"),\n",
    "            medianprops=dict(color=\"w\"),\n",
    "            showfliers = False,\n",
    "            #widths = 0.3\n",
    "            )\n",
    "\n",
    "\n",
    "# option 2, set all colors individually\n",
    "c2 = \"#9d9fa2\"\n",
    "box1 = plt.boxplot(data_2, positions=[2,5,7,9], notch=False, patch_artist=True, showfliers=False,\n",
    "                  medianprops=dict(color=\"#e19136\"),\n",
    "                   boxprops=dict(facecolor=\"w\", color=\"black\"))\n",
    "                  #widths = 0.3)\n",
    "\n",
    "#plt.xlim(0.5,4)\n",
    "plt.xticks([1,2,3,4,5,6,7,8,9], [\"\",\"\", None,\"\",\"\", \"\", \"\", \"\", \"\"], ha=\"left\")\n",
    "plt.ylabel(\"Distance (px)\", fontweight ='bold', fontsize = 13)\n",
    "#plt.setp(ax.xaxis.get_majorticklabels(), rotation=-45, ha=\"left\" )\n",
    "#plt.setp(ax.xaxis.get_majorticklabels(), ha=\"left\" )\n",
    "#for label in ax.get_xticklabels(minor=True):\n",
    "    #label.set_horizontalalignment('right')\n",
    "#plt.ylim([-2, 45])\n",
    "#plt.savefig('/Users/betinakreiman/Desktop/figs/fig4b_bar.pdf', format='pdf')\n",
    "#plt.xaxis.set_minor_locator(AutoMinorLocator())\n",
    "\n",
    "#plt.tick_params(which=\"minor\", color=\"r\")\n",
    "plt.show()\n"
   ]
  },
  {
   "cell_type": "code",
   "execution_count": null,
   "metadata": {},
   "outputs": [],
   "source": []
  },
  {
   "cell_type": "code",
   "execution_count": null,
   "metadata": {},
   "outputs": [],
   "source": []
  },
  {
   "cell_type": "code",
   "execution_count": 61,
   "metadata": {},
   "outputs": [
    {
     "data": {
      "text/plain": [
       "Text(0, 0.5, 'Distance (px)')"
      ]
     },
     "execution_count": 61,
     "metadata": {},
     "output_type": "execute_result"
    },
    {
     "data": {
      "image/png": "[encoded data removed]",
      "text/plain": [
       "<Figure size 432x288 with 1 Axes>"
      ]
     },
     "metadata": {
      "needs_background": "light"
     },
     "output_type": "display_data"
    }
   ],
   "source": [
    "# distnaces, distances_cam1, distances_cam2, distances_cam3, \n",
    "# distances_lf, distances_lk, distances_lt\n",
    "# distances_rf, distances_rk, distances_rt\n",
    "\n",
    "fig, ax = plt.subplots()\n",
    "\n",
    "data = [d, [], d_2, d_3, d_1]\n",
    "\n",
    "xtick = []\n",
    "ax.boxplot(data, showfliers=False)\n",
    "ax.set_xticklabels(xtick)\n",
    "ax.set_ylabel(\"Distance (px)\", fontweight ='bold', fontsize = 13)\n",
    "#plt.savefig('/Users/betinakreiman/Desktop/figs/fig2c.pdf', format='pdf')\n"
   ]
  },
  {
   "cell_type": "code",
   "execution_count": 62,
   "metadata": {},
   "outputs": [
    {
     "data": {
      "text/plain": [
       "Text(0, 0.5, 'Distance (px)')"
      ]
     },
     "execution_count": 62,
     "metadata": {},
     "output_type": "execute_result"
    },
    {
     "data": {
      "image/png": "[encoded data removed]",
      "text/plain": [
       "<Figure size 432x288 with 1 Axes>"
      ]
     },
     "metadata": {
      "needs_background": "light"
     },
     "output_type": "display_data"
    }
   ],
   "source": [
    "# distnaces, distances_cam1, distances_cam2, distances_cam3, \n",
    "# distances_lf, distances_lk, distances_lt\n",
    "# distances_rf, distances_rk, distances_rt\n",
    "\n",
    "fig, ax = plt.subplots()\n",
    "\n",
    "data = [cross_distances_human, [], cross_distances_cam2_human, cross_distances_cam3_human, cross_distances_cam1_human]\n",
    "\n",
    "xtick = []\n",
    "ax.boxplot(data, showfliers=False)\n",
    "ax.set_xticklabels(xtick)\n",
    "ax.set_ylabel(\"Distance (px)\", fontweight ='bold', fontsize = 13)\n",
    "#plt.savefig('/Users/betinakreiman/Desktop/figs/fig2c.pdf', format='pdf')\n"
   ]
  },
  {
   "cell_type": "code",
   "execution_count": null,
   "metadata": {},
   "outputs": [],
   "source": []
  },
  {
   "cell_type": "code",
   "execution_count": 143,
   "metadata": {},
   "outputs": [
    {
     "name": "stdout",
     "output_type": "stream",
     "text": [
      "45.65298283792776\n"
     ]
    },
    {
     "data": {
      "image/png": "[encoded data removed]",
      "text/plain": [
       "<Figure size 432x288 with 1 Axes>"
      ]
     },
     "metadata": {
      "needs_background": "light"
     },
     "output_type": "display_data"
    }
   ],
   "source": [
    "import matplotlib.pyplot as plt\n",
    "import numpy as np\n",
    "import scipy.stats as stats\n",
    "\n",
    "noise = np.random.normal(0, 1, (1000, ))\n",
    "density = stats.gaussian_kde(cross_distances_computer)\n",
    "n, x, _ = plt.hist(d, bins=np.linspace(0, 175, 200), \n",
    "                   histtype=u'step', density=True, fill=True, alpha=0.5)  \n",
    "#plt.plot(x, density(x))\n",
    "#plt.plot(x=21.323214225797198)\n",
    "print(np.mean(cross_distances_computer))\n",
    "plt.axvline(np.mean(cross_distances_computer), ls='--', linewidth=1)\n",
    "#ax.vlines(x=21.323214225797198, ymin=0, ymax=200, lw=1)\n",
    "plt.xlabel(\"Distance (px)\", fontweight ='bold', fontsize = 13)\n",
    "plt.ylabel(\"Frequency\", fontweight ='bold', fontsize = 13)\n",
    "plt.xlim([0, 50])\n",
    "#plt..text(0, 0.5, 'Ratio', va='center', rotation='vertical', fontweight ='bold', fontsize = 13)\n",
    "plt.savefig('/Users/betinakreiman/Desktop/fig_updates/fig4b_top.pdf', format='pdf')\n",
    "plt.show()\n",
    "\n"
   ]
  },
  {
   "cell_type": "code",
   "execution_count": 147,
   "metadata": {},
   "outputs": [
    {
     "name": "stdout",
     "output_type": "stream",
     "text": [
      "15.276794363281956\n"
     ]
    },
    {
     "data": {
      "image/png": "[encoded data removed]",
      "text/plain": [
       "<Figure size 432x288 with 1 Axes>"
      ]
     },
     "metadata": {
      "needs_background": "light"
     },
     "output_type": "display_data"
    }
   ],
   "source": [
    "import matplotlib.pyplot as plt\n",
    "import numpy as np\n",
    "import scipy.stats as stats\n",
    "\n",
    "noise = np.random.normal(0, 1, (1000, ))\n",
    "density = stats.gaussian_kde(d)\n",
    "n, x, _ = plt.hist(d, bins=np.linspace(0, 175, 200), \n",
    "                   histtype=u'step', density=True, fill=True, alpha=0.5)  \n",
    "#plt.plot(x, density(x))\n",
    "#plt.plot(x=21.323214225797198)\n",
    "print(np.mean(d))\n",
    "plt.axvline(np.mean(d), ls='--', linewidth=1)\n",
    "#ax.vlines(x=21.323214225797198, ymin=0, ymax=200, lw=1)\n",
    "plt.xlabel(\"Distance (px)\", fontweight ='bold', fontsize = 13)\n",
    "plt.ylabel(\"Frequency\", fontweight ='bold', fontsize = 13)\n",
    "plt.xlim([0, 50])\n",
    "#plt..text(0, 0.5, 'Ratio', va='center', rotation='vertical', fontweight ='bold', fontsize = 13)\n",
    "plt.savefig('/Users/betinakreiman/Desktop/fig_updates/fig4b_top.pdf', format='pdf')\n",
    "plt.show()\n",
    "\n"
   ]
  },
  {
   "cell_type": "code",
   "execution_count": null,
   "metadata": {},
   "outputs": [],
   "source": []
  },
  {
   "cell_type": "code",
   "execution_count": null,
   "metadata": {},
   "outputs": [],
   "source": []
  },
  {
   "cell_type": "code",
   "execution_count": 79,
   "metadata": {},
   "outputs": [],
   "source": [
    "import random\n",
    "import numpy\n",
    "from matplotlib import pyplot\n",
    "from matplotlib.lines import Line2D\n",
    "\n",
    "noise = np.random.normal(0, 1, (1000, ))\n",
    "density = stats.gaussian_kde(distances_computer)\n",
    "bins=np.linspace(0, 175, 100)\n",
    "\n"
   ]
  },
  {
   "cell_type": "code",
   "execution_count": 137,
   "metadata": {},
   "outputs": [
    {
     "name": "stdout",
     "output_type": "stream",
     "text": [
      "12.716295068464873\n"
     ]
    },
    {
     "data": {
      "image/png": "[encoded data removed]",
      "text/plain": [
       "<Figure size 432x288 with 1 Axes>"
      ]
     },
     "metadata": {
      "needs_background": "light"
     },
     "output_type": "display_data"
    }
   ],
   "source": [
    "# human\n",
    "pyplot.hist(cross_distances_human, bins, fill=True, histtype=u'step', density=True, linewidth=1, alpha=0.35)\n",
    "print(np.mean(cross_distances_human))\n",
    "custom_lines = [Line2D([0], [0], linewidth=2),\n",
    "                Line2D([0], [0], color='orange', linewidth=2),\n",
    "                Line2D([0], [0], color='green', linewidth=2),\n",
    "               Line2D([0], [0], color='red', linewidth=2)]\n",
    "pyplot.legend(custom_lines, [\"Human-Human\"])\n",
    "\n",
    "plt.xlim([0, 75])\n",
    "plt.xlabel(\"Distance (px)\", fontweight ='bold', fontsize = 13)\n",
    "plt.ylabel(\"Frequency\", fontweight ='bold', fontsize = 13)\n",
    "#plt.savefig('/Users/betinakreiman/Desktop/figs/fig4b/Supplemental_Graphs/fig_s1_human.pdf', format='pdf')\n",
    "pyplot.show()\n"
   ]
  },
  {
   "cell_type": "code",
   "execution_count": 132,
   "metadata": {},
   "outputs": [
    {
     "data": {
      "image/png": "[encoded data removed]",
      "text/plain": [
       "<Figure size 432x288 with 1 Axes>"
      ]
     },
     "metadata": {
      "needs_background": "light"
     },
     "output_type": "display_data"
    }
   ],
   "source": [
    "# Model 1\n",
    "pyplot.hist(diff_cross_k, bins, fill=True, histtype=u'step', density=True, linewidth=1, alpha=0.35)\n",
    "\n",
    "custom_lines = [Line2D([0], [0], linewidth=2),\n",
    "                Line2D([0], [0], color='orange', linewidth=2),\n",
    "                Line2D([0], [0], color='green', linewidth=2),\n",
    "               Line2D([0], [0], color='red', linewidth=2)]\n",
    "pyplot.legend(custom_lines, [\"Human-Computer A1\"])\n",
    "\n",
    "plt.xlim([0, 75])\n",
    "plt.xlabel(\"Distance (px)\", fontweight ='bold', fontsize = 13)\n",
    "plt.ylabel(\"Frequency\", fontweight ='bold', fontsize = 13)\n",
    "#plt.savefig('/Users/betinakreiman/Desktop/figs/fig4b/Supplemental_Graphs/fig_s1_model_1.pdf', format='pdf')\n",
    "\n",
    "pyplot.show()"
   ]
  },
  {
   "cell_type": "code",
   "execution_count": 134,
   "metadata": {},
   "outputs": [
    {
     "data": {
      "image/png": "[encoded data removed]",
      "text/plain": [
       "<Figure size 432x288 with 1 Axes>"
      ]
     },
     "metadata": {
      "needs_background": "light"
     },
     "output_type": "display_data"
    }
   ],
   "source": [
    "# Model 2\n",
    "pyplot.hist(diff_cross_j, bins, fill=True, histtype=u'step', density=True, linewidth=1, alpha=0.35)\n",
    "\n",
    "custom_lines = [Line2D([0], [0], linewidth=2),\n",
    "                Line2D([0], [0], color='orange', linewidth=2),\n",
    "                Line2D([0], [0], color='green', linewidth=2),\n",
    "               Line2D([0], [0], color='red', linewidth=2)]\n",
    "pyplot.legend(custom_lines, [\"Human-Computer A2\"])\n",
    "\n",
    "plt.xlim([0, 75])\n",
    "plt.xlabel(\"Distance (px)\", fontweight ='bold', fontsize = 13)\n",
    "plt.ylabel(\"Frequency\", fontweight ='bold', fontsize = 13)\n",
    "#plt.savefig('/Users/betinakreiman/Desktop/figs/fig4b/Supplemental_Graphs/fig_s1_model_2.pdf', format='pdf')\n",
    "\n",
    "pyplot.show()"
   ]
  },
  {
   "cell_type": "code",
   "execution_count": null,
   "metadata": {},
   "outputs": [],
   "source": []
  },
  {
   "cell_type": "code",
   "execution_count": null,
   "metadata": {},
   "outputs": [],
   "source": []
  },
  {
   "cell_type": "code",
   "execution_count": null,
   "metadata": {},
   "outputs": [],
   "source": []
  },
  {
   "cell_type": "code",
   "execution_count": null,
   "metadata": {},
   "outputs": [],
   "source": []
  },
  {
   "cell_type": "code",
   "execution_count": null,
   "metadata": {},
   "outputs": [],
   "source": []
  },
  {
   "cell_type": "code",
   "execution_count": 144,
   "metadata": {},
   "outputs": [
    {
     "name": "stdout",
     "output_type": "stream",
     "text": [
      "45.65298283792776\n"
     ]
    },
    {
     "data": {
      "image/png": "[encoded data removed]",
      "text/plain": [
       "<Figure size 432x288 with 1 Axes>"
      ]
     },
     "metadata": {
      "needs_background": "light"
     },
     "output_type": "display_data"
    }
   ],
   "source": [
    "# Computer\n",
    "pyplot.hist(cross_distances_computer, bins, fill=True, histtype=u'step', density=True, linewidth=1, alpha=0.35)\n",
    "print(np.mean(cross_distances_computer))\n",
    "custom_lines = [Line2D([0], [0], linewidth=2),\n",
    "                Line2D([0], [0], color='orange', linewidth=2),\n",
    "                Line2D([0], [0], color='green', linewidth=2),\n",
    "               Line2D([0], [0], color='red', linewidth=2)]\n",
    "pyplot.legend(custom_lines, [\"Computer-Computer\"])\n",
    "\n",
    "plt.xlim([0, 75])\n",
    "plt.xlabel(\"Distance (px)\", fontweight ='bold', fontsize = 13)\n",
    "plt.ylabel(\"Frequency\", fontweight ='bold', fontsize = 13)\n",
    "#plt.savefig('/Users/betinakreiman/Desktop/figs/fig4b/Supplemental_Graphs/fig_s1_computer.pdf', format='pdf')\n",
    "\n",
    "pyplot.show()"
   ]
  },
  {
   "cell_type": "code",
   "execution_count": null,
   "metadata": {},
   "outputs": [],
   "source": []
  },
  {
   "cell_type": "code",
   "execution_count": null,
   "metadata": {},
   "outputs": [],
   "source": []
  },
  {
   "cell_type": "code",
   "execution_count": null,
   "metadata": {},
   "outputs": [],
   "source": []
  },
  {
   "cell_type": "code",
   "execution_count": null,
   "metadata": {},
   "outputs": [],
   "source": []
  },
  {
   "cell_type": "code",
   "execution_count": null,
   "metadata": {},
   "outputs": [],
   "source": []
  },
  {
   "cell_type": "code",
   "execution_count": null,
   "metadata": {},
   "outputs": [],
   "source": []
  },
  {
   "cell_type": "code",
   "execution_count": null,
   "metadata": {},
   "outputs": [],
   "source": []
  },
  {
   "cell_type": "code",
   "execution_count": null,
   "metadata": {},
   "outputs": [],
   "source": []
  },
  {
   "cell_type": "code",
   "execution_count": null,
   "metadata": {},
   "outputs": [],
   "source": []
  },
  {
   "cell_type": "code",
   "execution_count": null,
   "metadata": {},
   "outputs": [],
   "source": []
  },
  {
   "cell_type": "markdown",
   "metadata": {},
   "source": [
    "## Figure 4c Bottom Graph 7/20/23"
   ]
  },
  {
   "cell_type": "code",
   "execution_count": 173,
   "metadata": {},
   "outputs": [
    {
     "data": {
      "image/png": "[encoded data removed]",
      "text/plain": [
       "<Figure size 432x288 with 1 Axes>"
      ]
     },
     "metadata": {
      "needs_background": "light"
     },
     "output_type": "display_data"
    }
   ],
   "source": [
    "import matplotlib.pyplot as plt\n",
    "import numpy as np\n",
    "\n",
    "data_1 = [distances_computer, [], distances_cam2_computer, distances_cam3_computer, distances_cam1_computer]\n",
    "data_2 = [distances_human, distances_cam2_human, distances_cam3_human, distances_cam1_human]\n",
    "\n",
    "\n",
    "#plt.figure(figsize=(4,3))\n",
    "# option 1, specify props dictionaries\n",
    "c = \"#e19136\"\n",
    "plt.boxplot(data_1, positions=[1,3,4,6,8], notch=False, patch_artist=True,\n",
    "            boxprops=dict(facecolor=c, color=\"black\"),\n",
    "            #capprops=dict(color=c),\n",
    "            #whiskerprops=dict(color=\"black\"),\n",
    "            #flierprops=dict(color=\"black\", markeredgecolor=\"black\"),\n",
    "            medianprops=dict(color=\"w\"),\n",
    "            showfliers = False,\n",
    "            #widths = 0.3\n",
    "            )\n",
    "\n",
    "\n",
    "# option 2, set all colors individually\n",
    "c2 = \"#9d9fa2\"\n",
    "box1 = plt.boxplot(data_2, positions=[2,5,7,9], notch=False, patch_artist=True, showfliers=False,\n",
    "                  medianprops=dict(color=\"#e19136\"),\n",
    "                   boxprops=dict(facecolor=\"w\", color=\"black\"))\n",
    "                  #widths = 0.3)\n",
    "\n",
    "#plt.xlim(0.5,4)\n",
    "plt.xticks([1,2,3,4,5,6,7,8,9], [\"\",\"\", None,\"\",\"\", \"\", \"\", \"\", \"\"], ha=\"left\")\n",
    "plt.ylabel(\"Distance (px)\", fontweight ='bold', fontsize = 13)\n",
    "plt.show()\n"
   ]
  },
  {
   "cell_type": "code",
   "execution_count": null,
   "metadata": {},
   "outputs": [],
   "source": []
  },
  {
   "cell_type": "code",
   "execution_count": null,
   "metadata": {},
   "outputs": [],
   "source": []
  },
  {
   "cell_type": "code",
   "execution_count": null,
   "metadata": {},
   "outputs": [],
   "source": []
  },
  {
   "cell_type": "code",
   "execution_count": null,
   "metadata": {},
   "outputs": [],
   "source": []
  },
  {
   "cell_type": "code",
   "execution_count": null,
   "metadata": {},
   "outputs": [],
   "source": []
  },
  {
   "cell_type": "code",
   "execution_count": null,
   "metadata": {},
   "outputs": [],
   "source": []
  },
  {
   "cell_type": "code",
   "execution_count": null,
   "metadata": {},
   "outputs": [],
   "source": []
  },
  {
   "cell_type": "code",
   "execution_count": null,
   "metadata": {},
   "outputs": [],
   "source": []
  },
  {
   "cell_type": "code",
   "execution_count": null,
   "metadata": {},
   "outputs": [],
   "source": []
  },
  {
   "cell_type": "code",
   "execution_count": null,
   "metadata": {},
   "outputs": [],
   "source": []
  },
  {
   "cell_type": "code",
   "execution_count": null,
   "metadata": {},
   "outputs": [],
   "source": []
  },
  {
   "cell_type": "code",
   "execution_count": null,
   "metadata": {},
   "outputs": [],
   "source": []
  },
  {
   "cell_type": "code",
   "execution_count": null,
   "metadata": {},
   "outputs": [],
   "source": []
  },
  {
   "cell_type": "code",
   "execution_count": null,
   "metadata": {},
   "outputs": [],
   "source": []
  },
  {
   "cell_type": "code",
   "execution_count": null,
   "metadata": {},
   "outputs": [],
   "source": []
  },
  {
   "cell_type": "code",
   "execution_count": null,
   "metadata": {},
   "outputs": [],
   "source": []
  },
  {
   "cell_type": "code",
   "execution_count": null,
   "metadata": {},
   "outputs": [],
   "source": []
  },
  {
   "cell_type": "code",
   "execution_count": null,
   "metadata": {},
   "outputs": [],
   "source": []
  },
  {
   "cell_type": "code",
   "execution_count": null,
   "metadata": {},
   "outputs": [],
   "source": []
  },
  {
   "cell_type": "code",
   "execution_count": null,
   "metadata": {},
   "outputs": [],
   "source": []
  },
  {
   "cell_type": "code",
   "execution_count": null,
   "metadata": {},
   "outputs": [],
   "source": []
  },
  {
   "cell_type": "code",
   "execution_count": null,
   "metadata": {},
   "outputs": [],
   "source": []
  },
  {
   "cell_type": "code",
   "execution_count": null,
   "metadata": {},
   "outputs": [],
   "source": []
  },
  {
   "cell_type": "code",
   "execution_count": null,
   "metadata": {},
   "outputs": [],
   "source": []
  },
  {
   "cell_type": "code",
   "execution_count": null,
   "metadata": {},
   "outputs": [],
   "source": []
  },
  {
   "cell_type": "code",
   "execution_count": null,
   "metadata": {},
   "outputs": [],
   "source": []
  },
  {
   "cell_type": "code",
   "execution_count": null,
   "metadata": {},
   "outputs": [],
   "source": []
  },
  {
   "cell_type": "code",
   "execution_count": null,
   "metadata": {},
   "outputs": [],
   "source": []
  },
  {
   "cell_type": "code",
   "execution_count": null,
   "metadata": {},
   "outputs": [],
   "source": []
  },
  {
   "cell_type": "code",
   "execution_count": null,
   "metadata": {},
   "outputs": [],
   "source": []
  },
  {
   "cell_type": "code",
   "execution_count": null,
   "metadata": {},
   "outputs": [],
   "source": []
  },
  {
   "cell_type": "code",
   "execution_count": null,
   "metadata": {},
   "outputs": [],
   "source": []
  },
  {
   "cell_type": "code",
   "execution_count": null,
   "metadata": {},
   "outputs": [],
   "source": []
  },
  {
   "cell_type": "code",
   "execution_count": null,
   "metadata": {},
   "outputs": [],
   "source": []
  },
  {
   "cell_type": "code",
   "execution_count": null,
   "metadata": {},
   "outputs": [],
   "source": []
  },
  {
   "cell_type": "code",
   "execution_count": null,
   "metadata": {},
   "outputs": [],
   "source": []
  },
  {
   "cell_type": "code",
   "execution_count": null,
   "metadata": {},
   "outputs": [],
   "source": []
  },
  {
   "cell_type": "code",
   "execution_count": null,
   "metadata": {},
   "outputs": [],
   "source": []
  },
  {
   "cell_type": "code",
   "execution_count": null,
   "metadata": {},
   "outputs": [],
   "source": []
  },
  {
   "cell_type": "code",
   "execution_count": null,
   "metadata": {},
   "outputs": [],
   "source": []
  },
  {
   "cell_type": "code",
   "execution_count": null,
   "metadata": {},
   "outputs": [],
   "source": []
  },
  {
   "cell_type": "code",
   "execution_count": null,
   "metadata": {},
   "outputs": [],
   "source": []
  },
  {
   "cell_type": "code",
   "execution_count": null,
   "metadata": {},
   "outputs": [],
   "source": []
  },
  {
   "cell_type": "code",
   "execution_count": null,
   "metadata": {},
   "outputs": [],
   "source": []
  },
  {
   "cell_type": "code",
   "execution_count": null,
   "metadata": {},
   "outputs": [],
   "source": []
  },
  {
   "cell_type": "code",
   "execution_count": null,
   "metadata": {},
   "outputs": [],
   "source": []
  },
  {
   "cell_type": "code",
   "execution_count": null,
   "metadata": {},
   "outputs": [],
   "source": []
  },
  {
   "cell_type": "code",
   "execution_count": null,
   "metadata": {},
   "outputs": [],
   "source": []
  },
  {
   "cell_type": "code",
   "execution_count": null,
   "metadata": {},
   "outputs": [],
   "source": []
  },
  {
   "cell_type": "code",
   "execution_count": null,
   "metadata": {},
   "outputs": [],
   "source": []
  }
 ],
 "metadata": {
  "kernelspec": {
   "display_name": "Python 3",
   "language": "python",
   "name": "python3"
  },
  "language_info": {
   "codemirror_mode": {
    "name": "ipython",
    "version": 3
   },
   "file_extension": ".py",
   "mimetype": "text/x-python",
   "name": "python",
   "nbconvert_exporter": "python",
   "pygments_lexer": "ipython3",
   "version": "3.7.6"
  }
 },
 "nbformat": 4,
 "nbformat_minor": 4
}
