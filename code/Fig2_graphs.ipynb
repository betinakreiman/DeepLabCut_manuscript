{
 "cells": [
  {
   "cell_type": "markdown",
   "metadata": {},
   "source": [
    "# Line Histograms\n",
    "2 graphs\n",
    "difference vs. frequency"
   ]
  },
  {
   "cell_type": "code",
   "execution_count": 1,
   "metadata": {},
   "outputs": [],
   "source": [
    "import csv\n",
    "import math\n",
    "from matplotlib import image\n",
    "from matplotlib import pyplot as plt"
   ]
  },
  {
   "cell_type": "code",
   "execution_count": 2,
   "metadata": {},
   "outputs": [],
   "source": [
    "def removeScorer_otherInfo(csv_file):\n",
    "    # remove indeces 0-3\n",
    "    data = csv_file[3:]\n",
    "    imgNames = []\n",
    "    for i in range(len(data)):\n",
    "        imgNames.append(data[i][2])\n",
    "        temp = data[i]\n",
    "        temp = temp[3:]\n",
    "        data[i] = temp\n",
    "    return [data, imgNames]\n",
    "#b1_c1_j = removeScorer_otherInfo(rows)\n",
    "\n",
    "def openCSV_getData(file_csv):\n",
    "    file = open(file_csv)\n",
    "    type(file)\n",
    "    csvreader = csv.reader(file)\n",
    "    rows = []\n",
    "    for row in csvreader:\n",
    "        rows.append(row)\n",
    "    temp = removeScorer_otherInfo(rows)\n",
    "    data = temp[0]\n",
    "    imgNames = temp[1]\n",
    "    return data, imgNames\n",
    "\n",
    "def correctImages(img):\n",
    "    new = []\n",
    "    numbs = []\n",
    "    for i in range(len(img)):\n",
    "        temp = 'frame' \n",
    "        t = img[i][3:7] \n",
    "        if t[0] == \"0\":\n",
    "            t = t[1:]\n",
    "        temp = temp + t + '.jpg'\n",
    "        numbs.append(t)\n",
    "        new.append(temp)\n",
    "    return new, numbs\n",
    "\n",
    "def distanceBetweenPoints(x1, y1, x2, y2):\n",
    "    xDiff = abs(x2 - x1)\n",
    "    yDiff = abs(y2 - y1)\n",
    "    xDiff = xDiff**2\n",
    "    yDiff = yDiff**2\n",
    "    distance = xDiff + yDiff\n",
    "    distance = math.pow(distance, 1/2)\n",
    "    return distance\n"
   ]
  },
  {
   "cell_type": "code",
   "execution_count": 3,
   "metadata": {},
   "outputs": [],
   "source": [
    "kreiman_csv = \"/Users/betinakreiman/Desktop/Life/research/comparing_csv_annotations/3d_csv_files/CollectedData_Kreiman (1).csv\"\n",
    "jaeson_csv = \"/Users/betinakreiman/Desktop/Life/research/comparing_csv_annotations/3d_csv_files/CollectedData_Jaeson_Block1Cam1.csv\"\n",
    "\n",
    "kreiman_1 = openCSV_getData(\"/Users/betinakreiman/Desktop/Life/research/comparing_csv_annotations/3d_csv_files/CollectedData_Kreiman (1).csv\")\n",
    "b1_k, img1_k = kreiman_1[0], kreiman_1[1]\n",
    "kreiman_2 = openCSV_getData(\"/Users/betinakreiman/Desktop/Life/research/comparing_csv_annotations/3d_csv_files/CollectedData_Kreiman (2).csv\")\n",
    "b2_k, img2_k = kreiman_2[0], kreiman_2[1]\n",
    "kreiman_3 = openCSV_getData(\"/Users/betinakreiman/Desktop/Life/research/comparing_csv_annotations/3d_csv_files/CollectedData_Kreiman (3).csv\")\n",
    "b3_k, img3_k = kreiman_3[0], kreiman_3[1]\n",
    "\n",
    "\n",
    "jaeson_1 = openCSV_getData(\"/Users/betinakreiman/Desktop/Life/research/comparing_csv_annotations/3d_csv_files/CollectedData_Jaeson_Block1Cam1.csv\")\n",
    "b1_j, img1_j = jaeson_1[0], jaeson_1[1]\n",
    "jaeson_2 = openCSV_getData(\"/Users/betinakreiman/Desktop/Life/research/comparing_csv_annotations/3d_csv_files/CollectedData_Jaeson_Block1Cam2.csv\")\n",
    "b2_j, img2_j = jaeson_2[0], jaeson_2[1]\n",
    "jaeson_3 = openCSV_getData(\"/Users/betinakreiman/Desktop/Life/research/comparing_csv_annotations/3d_csv_files/CollectedData_Jaeson_Block1Cam3.csv\")\n",
    "b3_j, img3_j = jaeson_3[0], jaeson_3[1]\n",
    "\n",
    "imgs, numbers = correctImages(img1_k)\n"
   ]
  },
  {
   "cell_type": "code",
   "execution_count": null,
   "metadata": {},
   "outputs": [],
   "source": []
  },
  {
   "cell_type": "code",
   "execution_count": 4,
   "metadata": {},
   "outputs": [
    {
     "name": "stdout",
     "output_type": "stream",
     "text": [
      "\n",
      "279\n",
      "standard deviation is 14.021129768553736\n",
      "average is 19.41051716101052\n",
      "\n",
      "224\n",
      "standard deviation is 10.511279875316532\n",
      "average is 24.25371569395862\n",
      "\n",
      "199\n",
      "standard deviation is 28.305046927249133\n",
      "average is 20.706179814778743\n"
     ]
    }
   ],
   "source": [
    "import numpy as np\n",
    "\n",
    "def calculateDistances(kreiman, jaeson):\n",
    "    distances = []\n",
    "    sumD = 0 \n",
    "    count = 0\n",
    "    for i in range(len(kreiman)):\n",
    "        for d in range(6):\n",
    "            k_x, k_y = 0, 0\n",
    "            j_x, j_y = 0, 0\n",
    "            if (kreiman[i][d*2]) != '' and (kreiman[i][d*2+1]) != '' and (jaeson[i][d*2]) != '' and (jaeson[i][d*2+1]) != '':\n",
    "                k_x, k_y = float(kreiman[i][d*2]), float(kreiman[i][d*2+1])\n",
    "                j_x, j_y = float(jaeson[i][d*2]), float(jaeson[i][d*2+1])\n",
    "                count += 1\n",
    "                \n",
    "                distance = distanceBetweenPoints(k_x, k_y, j_x, j_y)\n",
    "                sumD += distance\n",
    "                distances.append(distance)\n",
    "                \n",
    "    print()\n",
    "    print(count)\n",
    "    print(\"standard deviation is\", np.std(distances))\n",
    "    print(\"average is\", sumD / count)\n",
    "    return distances\n",
    "\n",
    "distances_cam1 = calculateDistances(b1_k, b1_j)\n",
    "distances_cam2 = calculateDistances(b2_k, b2_j)\n",
    "distances_cam3 = calculateDistances(b3_k, b3_j)\n",
    "            "
   ]
  },
  {
   "cell_type": "code",
   "execution_count": null,
   "metadata": {},
   "outputs": [],
   "source": []
  },
  {
   "cell_type": "code",
   "execution_count": 5,
   "metadata": {},
   "outputs": [
    {
     "name": "stdout",
     "output_type": "stream",
     "text": [
      "21.323214225797198\n",
      "18.568897572389663\n"
     ]
    }
   ],
   "source": [
    "distances = distances_cam1 + distances_cam2 + distances_cam3\n",
    "print(np.mean(distances))\n",
    "print(np.std(distances))"
   ]
  },
  {
   "cell_type": "code",
   "execution_count": null,
   "metadata": {},
   "outputs": [],
   "source": []
  },
  {
   "cell_type": "code",
   "execution_count": 6,
   "metadata": {},
   "outputs": [
    {
     "data": {
      "image/png": "[encoded data removed]",
      "text/plain": [
       "<Figure size 432x288 with 1 Axes>"
      ]
     },
     "metadata": {
      "needs_background": "light"
     },
     "output_type": "display_data"
    }
   ],
   "source": [
    "plt.hist(distances, alpha=0.5)\n",
    "plt.axvline(np.mean(distances), color='black', linewidth=3)\n",
    "#plt.xlabel('Difference in ' + xLabels[bodyPart] + \" (pixels)\", fontweight='bold', fontsize=13)\n",
    "#plt.ylabel('Frequency', fontweight='bold', fontsize=13)\n",
    "plt.show() "
   ]
  },
  {
   "cell_type": "code",
   "execution_count": null,
   "metadata": {},
   "outputs": [],
   "source": []
  },
  {
   "cell_type": "code",
   "execution_count": null,
   "metadata": {},
   "outputs": [],
   "source": []
  },
  {
   "cell_type": "code",
   "execution_count": null,
   "metadata": {},
   "outputs": [],
   "source": []
  },
  {
   "cell_type": "code",
   "execution_count": null,
   "metadata": {},
   "outputs": [],
   "source": []
  },
  {
   "cell_type": "code",
   "execution_count": null,
   "metadata": {},
   "outputs": [],
   "source": []
  },
  {
   "cell_type": "code",
   "execution_count": 7,
   "metadata": {},
   "outputs": [
    {
     "data": {
      "image/png": "[encoded data removed]",
      "text/plain": [
       "<Figure size 432x288 with 1 Axes>"
      ]
     },
     "metadata": {
      "needs_background": "light"
     },
     "output_type": "display_data"
    }
   ],
   "source": [
    "import matplotlib.pyplot as plt\n",
    "import numpy as np\n",
    "import scipy.stats as stats\n",
    "\n",
    "noise = np.random.normal(0, 1, (1000, ))\n",
    "density = stats.gaussian_kde(distances)\n",
    "n, x, _ = plt.hist(distances, bins=np.linspace(0, 175, 200), \n",
    "                   histtype=u'step', density=True, fill=True, alpha=0.5)  \n",
    "#plt.plot(x, density(x))\n",
    "#plt.plot(x=21.323214225797198)\n",
    "#plt.axvline(np.mean(distances), ls='--', linewidth=1)\n",
    "#ax.vlines(x=21.323214225797198, ymin=0, ymax=200, lw=1)\n",
    "plt.xlabel(\"Distance (px)\", fontweight ='bold', fontsize = 13)\n",
    "plt.ylabel(\"Frequency\", fontweight ='bold', fontsize = 13)\n",
    "plt.xlim([0, 130])\n",
    "#plt..text(0, 0.5, 'Ratio', va='center', rotation='vertical', fontweight ='bold', fontsize = 13)\n",
    "#plt.savefig('fig2b_top.pdf', format='pdf')\n",
    "plt.show()\n",
    "\n"
   ]
  },
  {
   "cell_type": "code",
   "execution_count": null,
   "metadata": {},
   "outputs": [],
   "source": []
  },
  {
   "cell_type": "code",
   "execution_count": 8,
   "metadata": {},
   "outputs": [
    {
     "data": {
      "image/png": "[encoded data removed]",
      "text/plain": [
       "<Figure size 432x288 with 1 Axes>"
      ]
     },
     "metadata": {
      "needs_background": "light"
     },
     "output_type": "display_data"
    }
   ],
   "source": [
    "\n",
    "n,x,_ = plt.hist(distances, bins = np.linspace(0,175,100), histtype=u'step' )\n",
    "bin_centers = 0.5*(x[1:]+x[:-1])\n",
    "plt.plot(fill=True)\n",
    "plt.plot(bin_centers,n) \n",
    "\n",
    "plt.show()"
   ]
  },
  {
   "cell_type": "code",
   "execution_count": null,
   "metadata": {},
   "outputs": [],
   "source": []
  },
  {
   "cell_type": "code",
   "execution_count": null,
   "metadata": {},
   "outputs": [],
   "source": []
  },
  {
   "cell_type": "code",
   "execution_count": null,
   "metadata": {},
   "outputs": [],
   "source": []
  },
  {
   "cell_type": "code",
   "execution_count": 9,
   "metadata": {},
   "outputs": [
    {
     "data": {
      "text/html": [
       "<div>\n",
       "<style scoped>\n",
       "    .dataframe tbody tr th:only-of-type {\n",
       "        vertical-align: middle;\n",
       "    }\n",
       "\n",
       "    .dataframe tbody tr th {\n",
       "        vertical-align: top;\n",
       "    }\n",
       "\n",
       "    .dataframe thead th {\n",
       "        text-align: right;\n",
       "    }\n",
       "</style>\n",
       "<table border=\"1\" class=\"dataframe\">\n",
       "  <thead>\n",
       "    <tr style=\"text-align: right;\">\n",
       "      <th></th>\n",
       "      <th>a</th>\n",
       "      <th>b</th>\n",
       "    </tr>\n",
       "  </thead>\n",
       "  <tbody>\n",
       "    <tr>\n",
       "      <th>min</th>\n",
       "      <td>-5.03</td>\n",
       "      <td>14.08</td>\n",
       "    </tr>\n",
       "    <tr>\n",
       "      <th>max</th>\n",
       "      <td>24.68</td>\n",
       "      <td>25.62</td>\n",
       "    </tr>\n",
       "    <tr>\n",
       "      <th>mean</th>\n",
       "      <td>10.05</td>\n",
       "      <td>20.07</td>\n",
       "    </tr>\n",
       "    <tr>\n",
       "      <th>std</th>\n",
       "      <td>4.10</td>\n",
       "      <td>2.00</td>\n",
       "    </tr>\n",
       "  </tbody>\n",
       "</table>\n",
       "</div>"
      ],
      "text/plain": [
       "          a      b\n",
       "min   -5.03  14.08\n",
       "max   24.68  25.62\n",
       "mean  10.05  20.07\n",
       "std    4.10   2.00"
      ]
     },
     "execution_count": 9,
     "metadata": {},
     "output_type": "execute_result"
    }
   ],
   "source": [
    "import pandas as pd\n",
    ">>> # Sample from two different normal distributions\n",
    ">>> means = 10, 20\n",
    ">>> stdevs = 4, 2\n",
    ">>> dist = pd.DataFrame(\n",
    "...     np.random.normal(loc=means, scale=stdevs, size=(1000, 2)),\n",
    "...     columns=['a', 'b'])\n",
    ">>> dist.agg(['min', 'max', 'mean', 'std']).round(decimals=2)\n",
    "#           a      b\n",
    "# min   -1.57  12.46\n",
    "# max   25.32  26.44\n",
    "# mean  10.12  19.94\n",
    "# std    3.94   1.94"
   ]
  },
  {
   "cell_type": "code",
   "execution_count": 10,
   "metadata": {},
   "outputs": [
    {
     "data": {
      "text/plain": [
       "Text(0, 0.5, 'Probability')"
      ]
     },
     "execution_count": 10,
     "metadata": {},
     "output_type": "execute_result"
    },
    {
     "data": {
      "image/png": "[encoded data removed]",
      "text/plain": [
       "<Figure size 432x288 with 1 Axes>"
      ]
     },
     "metadata": {
      "needs_background": "light"
     },
     "output_type": "display_data"
    }
   ],
   "source": [
    "fig, ax = plt.subplots()\n",
    "dist.plot.kde(ax=ax, legend=False, title='Histogram: A vs. B')\n",
    "dist.plot.hist(density=True, ax=ax)\n",
    "ax.set_ylabel('Probability')\n",
    "#ax.grid(axis='y')\n",
    "#ax.set_facecolor('#d8dcd6')"
   ]
  },
  {
   "cell_type": "code",
   "execution_count": 11,
   "metadata": {},
   "outputs": [
    {
     "data": {
      "text/plain": [
       "<AxesSubplot:>"
      ]
     },
     "execution_count": 11,
     "metadata": {},
     "output_type": "execute_result"
    },
    {
     "data": {
      "image/png": "[encoded data removed]",
      "text/plain": [
       "<Figure size 432x288 with 1 Axes>"
      ]
     },
     "metadata": {
      "needs_background": "light"
     },
     "output_type": "display_data"
    }
   ],
   "source": [
    "import seaborn as sns\n",
    "\n",
    "#sns.set_style('darkgrid')\n",
    "sns.distplot(distances)"
   ]
  },
  {
   "cell_type": "code",
   "execution_count": 12,
   "metadata": {},
   "outputs": [
    {
     "data": {
      "text/plain": [
       "<AxesSubplot:>"
      ]
     },
     "execution_count": 12,
     "metadata": {},
     "output_type": "execute_result"
    },
    {
     "data": {
      "image/png": "[encoded data removed]",
      "text/plain": [
       "<Figure size 432x288 with 1 Axes>"
      ]
     },
     "metadata": {
      "needs_background": "light"
     },
     "output_type": "display_data"
    }
   ],
   "source": [
    "sns.distplot(distances, fit=stats.laplace, kde=False)"
   ]
  },
  {
   "cell_type": "code",
   "execution_count": 13,
   "metadata": {},
   "outputs": [
    {
     "data": {
      "image/png": "[encoded data removed]",
      "text/plain": [
       "<Figure size 432x288 with 2 Axes>"
      ]
     },
     "metadata": {
      "needs_background": "light"
     },
     "output_type": "display_data"
    }
   ],
   "source": [
    "import matplotlib.pyplot as plt\n",
    "import numpy as np\n",
    "\n",
    "\n",
    "pts = np.array([\n",
    "    0.015, 0.166, 0.133, 0.159, 0.041, 0.024, 0.195, 0.039, 0.161, 0.018,\n",
    "    0.143, 0.056, 0.125, 0.096, 0.094, 0.051, 0.043, 0.021, 0.138, 0.075,\n",
    "    0.109, 0.195, 0.050, 0.074, 0.079, 0.155, 0.020, 0.010, 0.061, 0.008])\n",
    "\n",
    "pts = np.array(distances)\n",
    "pts[[3, 14]] += .8\n",
    "\n",
    "f, (ax, ax2) = plt.subplots(2, 1, sharex=True)\n",
    "\n",
    "ax.plot(bin_centers, n)\n",
    "ax2.plot(bin_centers, n)\n",
    "\n",
    "# zoom-in / limit the view to different portions of the data\n",
    "ax.set_ylim(130, 200)  # outliers only\n",
    "ax2.set_ylim(0, 50)  # most of the data\n",
    "\n",
    "ax.spines['bottom'].set_visible(False)\n",
    "ax2.spines['top'].set_visible(False)\n",
    "ax.xaxis.tick_top()\n",
    "ax.tick_params(labeltop=False)  # don't put tick labels at the top\n",
    "ax2.xaxis.tick_bottom()\n",
    "\n",
    "\n",
    "\n",
    "d = .015 \n",
    "kwargs = dict(transform=ax.transAxes, color='k', clip_on=False)\n",
    "ax.plot((-d, +d), (-d, +d), **kwargs)        # top-left diagonal\n",
    "ax.plot((1 - d, 1 + d), (-d, +d), **kwargs)  # top-right diagonal\n",
    "\n",
    "kwargs.update(transform=ax2.transAxes)  # switch to the bottom axes\n",
    "ax2.plot((-d, +d), (1 - d, 1 + d), **kwargs)  # bottom-left diagonal\n",
    "ax2.plot((1 - d, 1 + d), (1 - d, 1 + d), **kwargs)  # bottom-right diagonal\n",
    "\n",
    "plt.xlabel(\"Distance (px)\", fontweight ='bold', fontsize = 13)\n",
    "#f.text(\"Frequency\", fontweight ='bold', fontsize = 15)\n",
    "f.text(0.04, 0.5, 'Frequency', va='center', rotation='vertical', fontweight ='bold', fontsize = 13)\n",
    "\n",
    "plt.show()"
   ]
  },
  {
   "cell_type": "code",
   "execution_count": 14,
   "metadata": {},
   "outputs": [],
   "source": [
    "tempDistances = []\n",
    "for i in range(len(distances)):\n",
    "    temp = distances[i] / 900\n",
    "    tempDistances.append(temp)\n"
   ]
  },
  {
   "cell_type": "code",
   "execution_count": null,
   "metadata": {},
   "outputs": [],
   "source": []
  },
  {
   "cell_type": "code",
   "execution_count": 15,
   "metadata": {},
   "outputs": [
    {
     "data": {
      "image/png": "[encoded data removed]",
      "text/plain": [
       "<Figure size 432x288 with 1 Axes>"
      ]
     },
     "metadata": {
      "needs_background": "light"
     },
     "output_type": "display_data"
    }
   ],
   "source": [
    "n,x,_ = plt.hist(distances, bins = np.linspace(0,175,100), histtype=u'step' )\n",
    "bin_centers = 0.5*(x[1:]+x[:-1])\n",
    "plt.plot(bin_centers,n) \n",
    "plt.show()"
   ]
  },
  {
   "cell_type": "code",
   "execution_count": null,
   "metadata": {},
   "outputs": [],
   "source": []
  },
  {
   "cell_type": "code",
   "execution_count": 16,
   "metadata": {},
   "outputs": [
    {
     "data": {
      "image/png": "[encoded data removed]",
      "text/plain": [
       "<Figure size 432x288 with 1 Axes>"
      ]
     },
     "metadata": {
      "needs_background": "light"
     },
     "output_type": "display_data"
    }
   ],
   "source": [
    "import matplotlib.pyplot as plt\n",
    "import numpy as np\n",
    "\n",
    "fig, ax = plt.subplots()\n",
    "\n",
    "# pts = np.array([\n",
    "#     0.015, 0.166, 0.133, 0.159, 0.041, 0.024, 0.195, 0.039, 0.161, 0.018,\n",
    "#     0.143, 0.056, 0.125, 0.096, 0.094, 0.051, 0.043, 0.021, 0.138, 0.075,\n",
    "#     0.109, 0.195, 0.050, 0.074, 0.079, 0.155, 0.020, 0.010, 0.061, 0.008])\n",
    "\n",
    "# pts = np.array(tempDistances)\n",
    "# pts[[3, 14]] += .8\n",
    "\n",
    "# f, (ax, ax2) = plt.subplots(2, 1, sharex=True, gridspec_kw={'height_ratios': [1, 3]})\n",
    "\n",
    "ax.plot(bin_centers, n)\n",
    "# ax2.plot(bin_centers, n)\n",
    "\n",
    "# zoom-in / limit the view to different portions of the data\n",
    "ax.set_ylim(0, 50)  # outliers only\n",
    "#ax2.set_ylim(0, 60)  # most of the data\n",
    "\n",
    "# ax.spines['bottom'].set_visible(False)\n",
    "# #ax2.spines['top'].set_visible(False)\n",
    "# ax.xaxis.tick_top()\n",
    "# ax.tick_params(labeltop=False)  # don't put tick labels at the top\n",
    "# ax2.xaxis.tick_bottom()\n",
    "#ax2.set_yticks([0, 20, 40, 60], [0/900, \"0.02\", \"0.04\", \"0.06\"])\n",
    "#ax2.set_yticks([0, 20, 40], [0/900, \"0.02\", \"0.04\"])\n",
    "\n",
    "ax.set_yticks([10, 20, 30, 40, 50], [0.01, 0.02, 0.03, 0.04, 0.05])\n",
    "\n",
    "\n",
    "# d = .015 \n",
    "# kwargs = dict(transform=ax.transAxes, color='k', clip_on=False)\n",
    "\n",
    "# ax.plot((-d, +d), (-d, +d), **kwargs)        # top-left diagonal\n",
    "# ax.plot((1 - d, 1 + d), (-d, +d), **kwargs)  # top-right diagonal\n",
    "\n",
    "# kwargs.update(transform=ax2.transAxes)  # switch to the bottom axes\n",
    "\n",
    "# ax2.plot((-d, +d), (1 - d, 1 + d), **kwargs)  # bottom-left diagonal\n",
    "# ax2.plot((1 - d, 1 + d), (1 - d, 1 + d), **kwargs)  # bottom-right diagonal\n",
    "d = .25  # proportion of vertical to horizontal extent of the slanted line\n",
    "kwargs = dict(marker=[(-1, -d), (1, d)], markersize=12,\n",
    "              linestyle=\"none\", color='k', mec='k', mew=1, clip_on=False)\n",
    "ax.plot([0, 1], [0, 0], transform=ax.transAxes, **kwargs)\n",
    "#ax2.plot([0, 1], [1, 1], transform=ax2.transAxes, **kwargs)\n",
    "\n",
    "ax.vlines(x=21.323214225797198, ymin=0, ymax=200, ls='--', lw=1)\n",
    "#ax2.vlines(x=21.323214225797198, ymin=0, ymax=200, ls='--', lw=1)\n",
    "\n",
    "plt.xlabel(\"Distance (px)\", fontweight ='bold', fontsize = 13)\n",
    "#f.text(\"Frequency\", fontweight ='bold', fontsize = 15)\n",
    "#f.text(0, 0.5, 'Ratio', va='center', rotation='vertical', fontweight ='bold', fontsize = 13)\n",
    "fig.text(0, 0.5, 'Ratio', va='center', rotation='vertical', fontweight ='bold', fontsize = 13)\n",
    "\n",
    "plt.show()"
   ]
  },
  {
   "cell_type": "code",
   "execution_count": 17,
   "metadata": {
    "scrolled": true
   },
   "outputs": [
    {
     "data": {
      "text/plain": [
       "0.022222222222222223"
      ]
     },
     "execution_count": 17,
     "metadata": {},
     "output_type": "execute_result"
    }
   ],
   "source": [
    "20/900"
   ]
  },
  {
   "cell_type": "code",
   "execution_count": null,
   "metadata": {},
   "outputs": [],
   "source": []
  },
  {
   "cell_type": "code",
   "execution_count": null,
   "metadata": {},
   "outputs": [],
   "source": []
  },
  {
   "cell_type": "code",
   "execution_count": null,
   "metadata": {},
   "outputs": [],
   "source": []
  },
  {
   "cell_type": "code",
   "execution_count": null,
   "metadata": {},
   "outputs": [],
   "source": []
  },
  {
   "cell_type": "markdown",
   "metadata": {},
   "source": [
    "# Calculating distances for each body part separately\n",
    "import numpy as np\n",
    "\n",
    "def calculateDistances_body(kreiman_1, jaeson_1, kreiman_2, jaeson_2, kreiman_3, jaeson_3, part):\n",
    "    distances = []\n",
    "    sumD = 0 \n",
    "    for i in range(len(kreiman_1)):\n",
    "        k_x_1, k_y_1 = 0, 0\n",
    "        j_x_1, j_y_1 = 0, 0\n",
    "        k_x_2, k_y_2 = 0, 0\n",
    "        j_x_2, j_y_2 = 0, 0\n",
    "        k_x_3, k_y_3 = 0, 0\n",
    "        j_x_3, j_y_3 = 0, 0\n",
    "        \n",
    "        if (kreiman_1[i][part*2]) != '' and (kreiman_1[i][part*2+1]) != '' and (jaeson_1[i][part*2]) != '' and (jaeson_1[i][part*2+1]) != '':\n",
    "            k_x_1, k_y_1 = float(kreiman_1[i][part*2]), float(kreiman_1[i][part*2+1])\n",
    "            j_x_1, j_y_1 = float(jaeson_1[i][part*2]), float(jaeson_1[i][part*2+1])\n",
    "            \n",
    "        if (kreiman_2[i][part*2]) != '' and (kreiman_2[i][part*2+1]) != '' and (jaeson_2[i][part*2]) != '' and (jaeson_2[i][part*2+1]) != '':\n",
    "            k_x_2, k_y_2 = float(kreiman_2[i][part*2]), float(kreiman_2[i][part*2+1])\n",
    "            j_x_2, j_y_2 = float(jaeson_2[i][part*2]), float(jaeson_2[i][part*2+1])\n",
    "            \n",
    "        if (kreiman_3[i][part*2]) != '' and (kreiman_3[i][part*2+1]) != '' and (jaeson_3[i][part*2]) != '' and (jaeson_3[i][part*2+1]) != '':\n",
    "            k_x_3, k_y_3 = float(kreiman_3[i][part*2]), float(kreiman_3[i][part*2+1])\n",
    "            j_x_3, j_y_3 = float(jaeson_3[i][part*2]), float(jaeson_3[i][part*2+1])\n",
    "                \n",
    "        distance = distanceBetweenPoints(k_x_1, k_y_1, j_x_1, j_y_1)\n",
    "        distance = distanceBetweenPoints(k_x_2, k_y_2, j_x_2, j_y_2)\n",
    "        distance = distanceBetweenPoints(k_x_3, k_y_3, j_x_3, j_y_3)\n",
    "        sumD += distance\n",
    "        distances.append(distance)\n",
    "    \n",
    "    print()\n",
    "    print(\"standard deviation is\", np.std(distances))\n",
    "    print(\"average is\", sumD / (len(kreiman_1)*6))\n",
    "    return distances\n",
    "\n",
    "distances_leftfoot = calculateDistances_body(b1_k, b1_j, b2_k, b2_j, b3_k, b3_j, 0)\n",
    "distances_leftknee = calculateDistances_body(b1_k, b1_j, b2_k, b2_j, b3_k, b3_j, 1)\n",
    "distances_leftthigh = calculateDistances_body(b1_k, b1_j, b2_k, b2_j, b3_k, b3_j, 2)\n",
    "distances_rightfoot = calculateDistances_body(b1_k, b1_j, b2_k, b2_j, b3_k, b3_j, 3)\n",
    "distances_rightknee = calculateDistances_body(b1_k, b1_j, b2_k, b2_j, b3_k, b3_j, 4)\n",
    "distances_rightthigh = calculateDistances_body(b1_k, b1_j, b2_k, b2_j, b3_k, b3_j, 5)\n",
    "\n",
    "            "
   ]
  },
  {
   "cell_type": "code",
   "execution_count": 18,
   "metadata": {},
   "outputs": [],
   "source": [
    "import numpy as np\n",
    "distances_body_parts = [[], [], [], [], [], []]\n",
    "\n",
    "def calculateDistances_body(kreiman, jaeson):\n",
    "    #distances = []\n",
    "    sumD = 0 \n",
    "    for i in range(len(kreiman)):\n",
    "        for d in range(6):\n",
    "            k_x, k_y = 0, 0\n",
    "            j_x, j_y = 0, 0\n",
    "            if (kreiman[i][d*2]) != '' and (kreiman[i][d*2+1]) != '' and (jaeson[i][d*2]) != '' and (jaeson[i][d*2+1]) != '':\n",
    "                k_x, k_y = float(kreiman[i][d*2]), float(kreiman[i][d*2+1])\n",
    "                j_x, j_y = float(jaeson[i][d*2]), float(jaeson[i][d*2+1])\n",
    "                \n",
    "                distance = distanceBetweenPoints(k_x, k_y, j_x, j_y)\n",
    "                sumD += distance\n",
    "                distances_body_parts[d].append(distance)\n",
    "    #print(\"standard deviation is\", np.std(distances))\n",
    "    #print(\"average is\", sumD / (len(kreiman)*6))\n",
    "    #return distances\n",
    "\n",
    "calculateDistances_body(b1_k, b1_j)\n",
    "calculateDistances_body(b2_k, b2_j)\n",
    "calculateDistances_body(b3_k, b3_j)\n",
    "        "
   ]
  },
  {
   "cell_type": "code",
   "execution_count": 19,
   "metadata": {},
   "outputs": [
    {
     "name": "stdout",
     "output_type": "stream",
     "text": [
      "21.002658251259327\n",
      "12.16815413686095\n",
      "\n",
      "15.354634288789978\n",
      "9.547466460746104\n",
      "\n",
      "24.088107029529205\n",
      "13.125067537824126\n",
      "\n",
      "22.824152085355877\n",
      "22.491139919851022\n",
      "\n",
      "18.758291456008667\n",
      "28.577827535865605\n",
      "\n",
      "28.819796925183088\n",
      "11.836028518965893\n",
      "\n"
     ]
    }
   ],
   "source": [
    "for i in range(6):\n",
    "    print(np.mean(distances_body_parts[i]))\n",
    "    print(np.std(distances_body_parts[i]))\n",
    "    print()"
   ]
  },
  {
   "cell_type": "code",
   "execution_count": 20,
   "metadata": {},
   "outputs": [
    {
     "data": {
      "text/plain": [
       "16.632107096121818"
      ]
     },
     "execution_count": 20,
     "metadata": {},
     "output_type": "execute_result"
    }
   ],
   "source": [
    "(19.882516477858825 + 12.590800116807781 + 14.292276837520658 + \n",
    "20.237414849015543 + 15.88202009942067 + 16.907614196107414) / 6"
   ]
  },
  {
   "cell_type": "code",
   "execution_count": null,
   "metadata": {},
   "outputs": [],
   "source": []
  },
  {
   "cell_type": "code",
   "execution_count": null,
   "metadata": {},
   "outputs": [],
   "source": []
  },
  {
   "cell_type": "markdown",
   "metadata": {},
   "source": [
    "## Random"
   ]
  },
  {
   "cell_type": "code",
   "execution_count": 27,
   "metadata": {},
   "outputs": [
    {
     "name": "stdout",
     "output_type": "stream",
     "text": [
      "avg is 396.31361461903526\n",
      "std is 192.75140086199502\n"
     ]
    }
   ],
   "source": [
    "import random\n",
    "\n",
    "def create_random():\n",
    "    distances = []\n",
    "    for i in range(50):\n",
    "        for j in range(60):\n",
    "            x_1 = random.randint(0, 880)\n",
    "            x_2 = random.randint(0, 880)\n",
    "            y_1 = random.randint(0, 620)\n",
    "            y_2 = random.randint(0, 620)\n",
    "            \n",
    "            distance = distanceBetweenPoints(x_1, y_1, x_2, y_2)\n",
    "            distances.append(distance)\n",
    "    print(\"avg is\", np.mean(distances))\n",
    "    print(\"std is\", np.std(distances))\n",
    "    return distances\n",
    "random_dist = create_random()"
   ]
  },
  {
   "cell_type": "code",
   "execution_count": 28,
   "metadata": {},
   "outputs": [],
   "source": [
    "import numpy as np\n",
    "from scipy.stats import ranksums"
   ]
  },
  {
   "cell_type": "code",
   "execution_count": 31,
   "metadata": {},
   "outputs": [
    {
     "data": {
      "text/plain": [
       "RanksumsResult(statistic=40.941328552630445, pvalue=0.0)"
      ]
     },
     "execution_count": 31,
     "metadata": {},
     "output_type": "execute_result"
    }
   ],
   "source": [
    "ranksums(random_dist, distances)"
   ]
  },
  {
   "cell_type": "code",
   "execution_count": null,
   "metadata": {},
   "outputs": [],
   "source": []
  },
  {
   "cell_type": "code",
   "execution_count": null,
   "metadata": {},
   "outputs": [],
   "source": []
  },
  {
   "cell_type": "code",
   "execution_count": null,
   "metadata": {},
   "outputs": [],
   "source": []
  },
  {
   "cell_type": "code",
   "execution_count": null,
   "metadata": {},
   "outputs": [],
   "source": []
  },
  {
   "cell_type": "markdown",
   "metadata": {},
   "source": [
    "# After 3/23/23 adding each part "
   ]
  },
  {
   "cell_type": "code",
   "execution_count": 22,
   "metadata": {},
   "outputs": [
    {
     "name": "stdout",
     "output_type": "stream",
     "text": [
      "standard deviation is 12.16815413686095\n",
      "average is 21.002658251259327\n",
      "\n",
      "standard deviation is 9.547466460746104\n",
      "average is 15.354634288789978\n",
      "\n",
      "standard deviation is 13.125067537824126\n",
      "average is 24.088107029529205\n",
      "\n",
      "standard deviation is 22.491139919851022\n",
      "average is 22.824152085355877\n",
      "\n",
      "standard deviation is 28.577827535865605\n",
      "average is 18.758291456008667\n",
      "\n",
      "standard deviation is 11.836028518965893\n",
      "average is 28.819796925183088\n",
      "\n"
     ]
    }
   ],
   "source": [
    "import numpy as np\n",
    "\n",
    "def calculateDistances(arr, part):\n",
    "    distances = []\n",
    "    sumD = 0 \n",
    "    \n",
    "    for cam in range(3): \n",
    "        for i in range(len(arr[cam][0])):\n",
    "            k_x, k_y = 0, 0\n",
    "            j_x, j_y = 0, 0\n",
    "            if (arr[cam][0][i][part*2]) != '' and (arr[cam][0][i][part*2+1]) != '' and (arr[cam][1][i][part*2]) != '' and (arr[cam][1][i][part*2+1]) != '':\n",
    "                k_x, k_y = float(arr[cam][0][i][part*2]), float(arr[cam][0][i][part*2+1])\n",
    "                j_x, j_y = float(arr[cam][1][i][part*2]), float(arr[cam][1][i][part*2+1])\n",
    "                \n",
    "                distance = distanceBetweenPoints(k_x, k_y, j_x, j_y)\n",
    "                sumD += distance\n",
    "                distances.append(distance)\n",
    "            \n",
    "    print(\"standard deviation is\", np.std(distances))\n",
    "    print(\"average is\", np.mean(distances))\n",
    "    print()\n",
    "    return distances\n",
    "\n",
    "distances_lf = calculateDistances([[b1_k, b1_j], [b2_k, b2_j], [b3_k, b3_j]], 0)\n",
    "distances_lk = calculateDistances([[b1_k, b1_j], [b2_k, b2_j], [b3_k, b3_j]], 1)\n",
    "distances_lt = calculateDistances([[b1_k, b1_j], [b2_k, b2_j], [b3_k, b3_j]], 2)\n",
    "distances_rf = calculateDistances([[b1_k, b1_j], [b2_k, b2_j], [b3_k, b3_j]], 3)\n",
    "distances_rk = calculateDistances([[b1_k, b1_j], [b2_k, b2_j], [b3_k, b3_j]], 4)\n",
    "distances_rt = calculateDistances([[b1_k, b1_j], [b2_k, b2_j], [b3_k, b3_j]], 5)\n",
    "            "
   ]
  },
  {
   "cell_type": "code",
   "execution_count": 23,
   "metadata": {},
   "outputs": [
    {
     "data": {
      "image/png": "[encoded data removed]",
      "text/plain": [
       "<Figure size 432x288 with 1 Axes>"
      ]
     },
     "metadata": {
      "needs_background": "light"
     },
     "output_type": "display_data"
    }
   ],
   "source": [
    "density = stats.gaussian_kde(distances_lf)\n",
    "    \n",
    "plt.hist(distances_lf, bins = np.linspace(0,175,200), histtype=u'step', \n",
    "                       color=\"blue\", density=True, fill=f, alpha=0.5, label=\"Left\")\n",
    "\n",
    "\n",
    "plt.hist(distances_rf, bins = np.linspace(0,175,100), histtype=u'step', \n",
    "                       color=\"red\", density=True, fill=f, alpha=0.5, label=\"Right\")\n",
    "plt.axvline(np.mean(distances_lf), color=\"blue\", ls='--', linewidth=1)\n",
    "plt.axvline(np.mean(distances_rf), color=\"red\", ls='--', linewidth=1)\n",
    "\n",
    "\n",
    "plt.xlabel(\"Distance (px)\", fontweight ='bold', fontsize = 13)\n",
    "plt.ylabel(\"Frequency\", fontweight ='bold', fontsize = 13)\n",
    "plt.xlim([0, 60])\n",
    "plt.title(\"Foot\", fontweight ='bold', fontsize = 14)\n",
    "plt.legend([\"Left\", \"Right\"])\n",
    "plt.savefig('/Users/betinakreiman/Desktop/figs/fig2b_foot.pdf', format='pdf')\n",
    "plt.show()"
   ]
  },
  {
   "cell_type": "code",
   "execution_count": 24,
   "metadata": {},
   "outputs": [
    {
     "data": {
      "image/png": "[encoded data removed]",
      "text/plain": [
       "<Figure size 432x288 with 1 Axes>"
      ]
     },
     "metadata": {
      "needs_background": "light"
     },
     "output_type": "display_data"
    }
   ],
   "source": [
    "density = stats.gaussian_kde(distances_lk)\n",
    "    \n",
    "plt.hist(distances_lk, bins = np.linspace(0,175,200), histtype=u'step', \n",
    "                       color=\"blue\", density=True, fill=f, alpha=0.5)\n",
    "\n",
    "plt.hist(distances_rk, bins = np.linspace(0,175,100), histtype=u'step', \n",
    "                       color=\"red\", density=True, fill=f, alpha=0.5)\n",
    "\n",
    "plt.axvline(np.mean(distances_lk), color=\"blue\", ls='--', linewidth=1)\n",
    "plt.axvline(np.mean(distances_rk), color=\"red\", ls='--', linewidth=1)\n",
    "\n",
    "\n",
    "plt.xlabel(\"Distance (px)\", fontweight ='bold', fontsize = 13)\n",
    "plt.ylabel(\"Frequency\", fontweight ='bold', fontsize = 13)\n",
    "plt.xlim([0, 60])\n",
    "plt.title(\"Knee\", fontweight ='bold', fontsize = 14)\n",
    "plt.legend([\"Left\", \"Right\"])\n",
    "plt.savefig('/Users/betinakreiman/Desktop/figs/fig2b_knee.pdf', format='pdf')\n",
    "plt.show()"
   ]
  },
  {
   "cell_type": "code",
   "execution_count": 25,
   "metadata": {},
   "outputs": [
    {
     "data": {
      "image/png": "[encoded data removed]",
      "text/plain": [
       "<Figure size 432x288 with 1 Axes>"
      ]
     },
     "metadata": {
      "needs_background": "light"
     },
     "output_type": "display_data"
    }
   ],
   "source": [
    "density = stats.gaussian_kde(distances_lt)\n",
    "    \n",
    "plt.hist(distances_lt, bins = np.linspace(0,175,200), histtype=u'step', \n",
    "                       color=\"blue\", density=True, fill=f, alpha=0.5)\n",
    "\n",
    "plt.hist(distances_rt, bins = np.linspace(0,175,100), histtype=u'step', \n",
    "                       color=\"red\", density=True, fill=f, alpha=0.5)\n",
    "\n",
    "plt.axvline(np.mean(distances_lt), color=\"blue\", ls='--', linewidth=1)\n",
    "plt.axvline(np.mean(distances_rt), color=\"red\", ls='--', linewidth=1)\n",
    "\n",
    "\n",
    "plt.xlabel(\"Distance (px)\", fontweight ='bold', fontsize = 13)\n",
    "plt.ylabel(\"Frequency\", fontweight ='bold', fontsize = 13)\n",
    "plt.xlim([0, 60])\n",
    "plt.title(\"Thigh\", fontweight ='bold', fontsize = 14)\n",
    "plt.legend([\"Left\", \"Right\"])\n",
    "plt.savefig('/Users/betinakreiman/Desktop/figs/fig2b_thigh.pdf', format='pdf')\n",
    "plt.show()"
   ]
  },
  {
   "cell_type": "code",
   "execution_count": null,
   "metadata": {},
   "outputs": [],
   "source": []
  },
  {
   "cell_type": "code",
   "execution_count": null,
   "metadata": {},
   "outputs": [],
   "source": []
  },
  {
   "cell_type": "code",
   "execution_count": null,
   "metadata": {},
   "outputs": [],
   "source": []
  },
  {
   "cell_type": "code",
   "execution_count": null,
   "metadata": {},
   "outputs": [],
   "source": []
  },
  {
   "cell_type": "code",
   "execution_count": null,
   "metadata": {},
   "outputs": [],
   "source": []
  },
  {
   "cell_type": "code",
   "execution_count": null,
   "metadata": {},
   "outputs": [],
   "source": []
  },
  {
   "cell_type": "markdown",
   "metadata": {},
   "source": [
    "## Creating Bar Graph"
   ]
  },
  {
   "cell_type": "code",
   "execution_count": 26,
   "metadata": {},
   "outputs": [
    {
     "data": {
      "image/png": "[encoded data removed]",
      "text/plain": [
       "<Figure size 432x288 with 1 Axes>"
      ]
     },
     "metadata": {
      "needs_background": "light"
     },
     "output_type": "display_data"
    }
   ],
   "source": [
    "# distnaces, distances_cam1, distances_cam2, distances_cam3, \n",
    "# distances_lf, distances_lk, distances_lt\n",
    "# distances_rf, distances_rk, distances_rt\n",
    "\n",
    "fig, ax = plt.subplots()\n",
    "\n",
    "data = [distances, [], distances_cam2, distances_cam3, distances_cam1, [], distances_lf, distances_lk, distances_lt,\n",
    "       distances_rf, distances_rk, distances_rt]\n",
    "\n",
    "xtick = [\"All\", \"\", \"LP\", \"RP\", \"P\", \"\", \"LF\", \"LK\", \"LT\", \"RF\", \"RK\", \"RT\"]\n",
    "ax.boxplot(data, showfliers=False)\n",
    "ax.set_xticklabels(xtick)\n",
    "ax.set_ylabel(\"Distance (px)\", fontweight ='bold', fontsize = 13)\n",
    "plt.savefig('/Users/betinakreiman/Desktop/figs/fig2c.pdf', format='pdf')\n"
   ]
  },
  {
   "cell_type": "code",
   "execution_count": null,
   "metadata": {},
   "outputs": [],
   "source": []
  },
  {
   "cell_type": "code",
   "execution_count": null,
   "metadata": {},
   "outputs": [],
   "source": []
  },
  {
   "cell_type": "code",
   "execution_count": null,
   "metadata": {},
   "outputs": [],
   "source": []
  },
  {
   "cell_type": "code",
   "execution_count": null,
   "metadata": {},
   "outputs": [],
   "source": []
  },
  {
   "cell_type": "code",
   "execution_count": null,
   "metadata": {},
   "outputs": [],
   "source": []
  },
  {
   "cell_type": "code",
   "execution_count": null,
   "metadata": {},
   "outputs": [],
   "source": []
  },
  {
   "cell_type": "code",
   "execution_count": null,
   "metadata": {},
   "outputs": [],
   "source": []
  },
  {
   "cell_type": "code",
   "execution_count": null,
   "metadata": {},
   "outputs": [],
   "source": []
  },
  {
   "cell_type": "code",
   "execution_count": null,
   "metadata": {},
   "outputs": [],
   "source": []
  },
  {
   "cell_type": "code",
   "execution_count": null,
   "metadata": {},
   "outputs": [],
   "source": []
  },
  {
   "cell_type": "code",
   "execution_count": null,
   "metadata": {},
   "outputs": [],
   "source": []
  },
  {
   "cell_type": "code",
   "execution_count": null,
   "metadata": {},
   "outputs": [],
   "source": []
  },
  {
   "cell_type": "code",
   "execution_count": null,
   "metadata": {},
   "outputs": [],
   "source": []
  },
  {
   "cell_type": "code",
   "execution_count": null,
   "metadata": {},
   "outputs": [],
   "source": []
  },
  {
   "cell_type": "code",
   "execution_count": null,
   "metadata": {},
   "outputs": [],
   "source": []
  },
  {
   "cell_type": "code",
   "execution_count": null,
   "metadata": {},
   "outputs": [],
   "source": []
  },
  {
   "cell_type": "code",
   "execution_count": null,
   "metadata": {},
   "outputs": [],
   "source": []
  },
  {
   "cell_type": "code",
   "execution_count": null,
   "metadata": {},
   "outputs": [],
   "source": []
  },
  {
   "cell_type": "code",
   "execution_count": null,
   "metadata": {},
   "outputs": [],
   "source": []
  },
  {
   "cell_type": "code",
   "execution_count": null,
   "metadata": {},
   "outputs": [],
   "source": []
  },
  {
   "cell_type": "code",
   "execution_count": null,
   "metadata": {},
   "outputs": [],
   "source": []
  },
  {
   "cell_type": "code",
   "execution_count": null,
   "metadata": {},
   "outputs": [],
   "source": []
  },
  {
   "cell_type": "code",
   "execution_count": null,
   "metadata": {},
   "outputs": [],
   "source": []
  },
  {
   "cell_type": "code",
   "execution_count": null,
   "metadata": {},
   "outputs": [],
   "source": []
  },
  {
   "cell_type": "code",
   "execution_count": null,
   "metadata": {},
   "outputs": [],
   "source": []
  },
  {
   "cell_type": "code",
   "execution_count": null,
   "metadata": {},
   "outputs": [],
   "source": []
  },
  {
   "cell_type": "code",
   "execution_count": null,
   "metadata": {},
   "outputs": [],
   "source": []
  },
  {
   "cell_type": "code",
   "execution_count": null,
   "metadata": {},
   "outputs": [],
   "source": []
  },
  {
   "cell_type": "code",
   "execution_count": null,
   "metadata": {},
   "outputs": [],
   "source": []
  },
  {
   "cell_type": "code",
   "execution_count": null,
   "metadata": {},
   "outputs": [],
   "source": []
  },
  {
   "cell_type": "code",
   "execution_count": null,
   "metadata": {},
   "outputs": [],
   "source": []
  },
  {
   "cell_type": "code",
   "execution_count": null,
   "metadata": {},
   "outputs": [],
   "source": []
  },
  {
   "cell_type": "code",
   "execution_count": null,
   "metadata": {},
   "outputs": [],
   "source": []
  },
  {
   "cell_type": "code",
   "execution_count": null,
   "metadata": {},
   "outputs": [],
   "source": []
  },
  {
   "cell_type": "code",
   "execution_count": null,
   "metadata": {},
   "outputs": [],
   "source": []
  },
  {
   "cell_type": "code",
   "execution_count": null,
   "metadata": {},
   "outputs": [],
   "source": []
  },
  {
   "cell_type": "code",
   "execution_count": null,
   "metadata": {},
   "outputs": [],
   "source": []
  },
  {
   "cell_type": "code",
   "execution_count": null,
   "metadata": {},
   "outputs": [],
   "source": []
  },
  {
   "cell_type": "code",
   "execution_count": null,
   "metadata": {},
   "outputs": [],
   "source": []
  }
 ],
 "metadata": {
  "kernelspec": {
   "display_name": "Python 3",
   "language": "python",
   "name": "python3"
  },
  "language_info": {
   "codemirror_mode": {
    "name": "ipython",
    "version": 3
   },
   "file_extension": ".py",
   "mimetype": "text/x-python",
   "name": "python",
   "nbconvert_exporter": "python",
   "pygments_lexer": "ipython3",
   "version": "3.7.6"
  }
 },
 "nbformat": 4,
 "nbformat_minor": 4
}
